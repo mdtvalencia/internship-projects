{
 "cells": [
  {
   "cell_type": "markdown",
   "metadata": {},
   "source": [
    "## Heart Disease Prediction\n",
    "#### Problem Statement\n",
    "* The dataset is an excerpt from a study of heart disease which contains various measurements on patient health and cardiovascular statistics. The target is to predict if a patient has any cardiovascular disease or not."
   ]
  },
  {
   "cell_type": "markdown",
   "metadata": {},
   "source": [
    "### Step 1: Classification Type Problem"
   ]
  },
  {
   "cell_type": "markdown",
   "metadata": {},
   "source": [
    "#### Import necessary libraries"
   ]
  },
  {
   "cell_type": "code",
   "execution_count": 1,
   "metadata": {},
   "outputs": [],
   "source": [
    "import numpy as np \n",
    "import pandas as pd\n",
    "import matplotlib.pyplot as plt\n",
    "import seaborn as sns\n",
    "import warnings\n",
    "warnings.filterwarnings('ignore')"
   ]
  },
  {
   "cell_type": "markdown",
   "metadata": {},
   "source": [
    "### Step 2:  Read the dataset"
   ]
  },
  {
   "cell_type": "code",
   "execution_count": 2,
   "metadata": {},
   "outputs": [
    {
     "data": {
      "text/html": [
       "<div>\n",
       "<style scoped>\n",
       "    .dataframe tbody tr th:only-of-type {\n",
       "        vertical-align: middle;\n",
       "    }\n",
       "\n",
       "    .dataframe tbody tr th {\n",
       "        vertical-align: top;\n",
       "    }\n",
       "\n",
       "    .dataframe thead th {\n",
       "        text-align: right;\n",
       "    }\n",
       "</style>\n",
       "<table border=\"1\" class=\"dataframe\">\n",
       "  <thead>\n",
       "    <tr style=\"text-align: right;\">\n",
       "      <th></th>\n",
       "      <th>patient_id</th>\n",
       "      <th>slope_of_peak_exercise_st_segment</th>\n",
       "      <th>thal</th>\n",
       "      <th>resting_blood_pressure</th>\n",
       "      <th>chest_pain_type</th>\n",
       "      <th>num_major_vessels</th>\n",
       "      <th>fasting_blood_sugar_gt_120_mg_per_dl</th>\n",
       "      <th>resting_ekg_results</th>\n",
       "      <th>serum_cholesterol_mg_per_dl</th>\n",
       "      <th>oldpeak_eq_st_depression</th>\n",
       "      <th>sex</th>\n",
       "      <th>age</th>\n",
       "      <th>max_heart_rate_achieved</th>\n",
       "      <th>exercise_induced_angina</th>\n",
       "      <th>heart_disease_present</th>\n",
       "    </tr>\n",
       "  </thead>\n",
       "  <tbody>\n",
       "    <tr>\n",
       "      <th>0</th>\n",
       "      <td>0z64un</td>\n",
       "      <td>1</td>\n",
       "      <td>normal</td>\n",
       "      <td>128</td>\n",
       "      <td>2</td>\n",
       "      <td>0</td>\n",
       "      <td>0</td>\n",
       "      <td>2</td>\n",
       "      <td>308</td>\n",
       "      <td>0.0</td>\n",
       "      <td>1</td>\n",
       "      <td>45</td>\n",
       "      <td>170</td>\n",
       "      <td>0</td>\n",
       "      <td>0</td>\n",
       "    </tr>\n",
       "    <tr>\n",
       "      <th>1</th>\n",
       "      <td>ryoo3j</td>\n",
       "      <td>2</td>\n",
       "      <td>normal</td>\n",
       "      <td>110</td>\n",
       "      <td>3</td>\n",
       "      <td>0</td>\n",
       "      <td>0</td>\n",
       "      <td>0</td>\n",
       "      <td>214</td>\n",
       "      <td>1.6</td>\n",
       "      <td>0</td>\n",
       "      <td>54</td>\n",
       "      <td>158</td>\n",
       "      <td>0</td>\n",
       "      <td>0</td>\n",
       "    </tr>\n",
       "    <tr>\n",
       "      <th>2</th>\n",
       "      <td>yt1s1x</td>\n",
       "      <td>1</td>\n",
       "      <td>normal</td>\n",
       "      <td>125</td>\n",
       "      <td>4</td>\n",
       "      <td>3</td>\n",
       "      <td>0</td>\n",
       "      <td>2</td>\n",
       "      <td>304</td>\n",
       "      <td>0.0</td>\n",
       "      <td>1</td>\n",
       "      <td>77</td>\n",
       "      <td>162</td>\n",
       "      <td>1</td>\n",
       "      <td>1</td>\n",
       "    </tr>\n",
       "    <tr>\n",
       "      <th>3</th>\n",
       "      <td>l2xjde</td>\n",
       "      <td>1</td>\n",
       "      <td>reversible_defect</td>\n",
       "      <td>152</td>\n",
       "      <td>4</td>\n",
       "      <td>0</td>\n",
       "      <td>0</td>\n",
       "      <td>0</td>\n",
       "      <td>223</td>\n",
       "      <td>0.0</td>\n",
       "      <td>1</td>\n",
       "      <td>40</td>\n",
       "      <td>181</td>\n",
       "      <td>0</td>\n",
       "      <td>1</td>\n",
       "    </tr>\n",
       "    <tr>\n",
       "      <th>4</th>\n",
       "      <td>oyt4ek</td>\n",
       "      <td>3</td>\n",
       "      <td>reversible_defect</td>\n",
       "      <td>178</td>\n",
       "      <td>1</td>\n",
       "      <td>0</td>\n",
       "      <td>0</td>\n",
       "      <td>2</td>\n",
       "      <td>270</td>\n",
       "      <td>4.2</td>\n",
       "      <td>1</td>\n",
       "      <td>59</td>\n",
       "      <td>145</td>\n",
       "      <td>0</td>\n",
       "      <td>0</td>\n",
       "    </tr>\n",
       "    <tr>\n",
       "      <th>...</th>\n",
       "      <td>...</td>\n",
       "      <td>...</td>\n",
       "      <td>...</td>\n",
       "      <td>...</td>\n",
       "      <td>...</td>\n",
       "      <td>...</td>\n",
       "      <td>...</td>\n",
       "      <td>...</td>\n",
       "      <td>...</td>\n",
       "      <td>...</td>\n",
       "      <td>...</td>\n",
       "      <td>...</td>\n",
       "      <td>...</td>\n",
       "      <td>...</td>\n",
       "      <td>...</td>\n",
       "    </tr>\n",
       "    <tr>\n",
       "      <th>175</th>\n",
       "      <td>5qfar3</td>\n",
       "      <td>2</td>\n",
       "      <td>reversible_defect</td>\n",
       "      <td>125</td>\n",
       "      <td>4</td>\n",
       "      <td>2</td>\n",
       "      <td>1</td>\n",
       "      <td>0</td>\n",
       "      <td>254</td>\n",
       "      <td>0.2</td>\n",
       "      <td>1</td>\n",
       "      <td>67</td>\n",
       "      <td>163</td>\n",
       "      <td>0</td>\n",
       "      <td>1</td>\n",
       "    </tr>\n",
       "    <tr>\n",
       "      <th>176</th>\n",
       "      <td>2s2b1f</td>\n",
       "      <td>2</td>\n",
       "      <td>normal</td>\n",
       "      <td>180</td>\n",
       "      <td>4</td>\n",
       "      <td>0</td>\n",
       "      <td>0</td>\n",
       "      <td>1</td>\n",
       "      <td>327</td>\n",
       "      <td>3.4</td>\n",
       "      <td>0</td>\n",
       "      <td>55</td>\n",
       "      <td>117</td>\n",
       "      <td>1</td>\n",
       "      <td>1</td>\n",
       "    </tr>\n",
       "    <tr>\n",
       "      <th>177</th>\n",
       "      <td>nsd00i</td>\n",
       "      <td>2</td>\n",
       "      <td>reversible_defect</td>\n",
       "      <td>125</td>\n",
       "      <td>3</td>\n",
       "      <td>0</td>\n",
       "      <td>0</td>\n",
       "      <td>0</td>\n",
       "      <td>309</td>\n",
       "      <td>1.8</td>\n",
       "      <td>1</td>\n",
       "      <td>64</td>\n",
       "      <td>131</td>\n",
       "      <td>1</td>\n",
       "      <td>1</td>\n",
       "    </tr>\n",
       "    <tr>\n",
       "      <th>178</th>\n",
       "      <td>0xw93k</td>\n",
       "      <td>1</td>\n",
       "      <td>normal</td>\n",
       "      <td>124</td>\n",
       "      <td>3</td>\n",
       "      <td>2</td>\n",
       "      <td>1</td>\n",
       "      <td>0</td>\n",
       "      <td>255</td>\n",
       "      <td>0.0</td>\n",
       "      <td>1</td>\n",
       "      <td>48</td>\n",
       "      <td>175</td>\n",
       "      <td>0</td>\n",
       "      <td>0</td>\n",
       "    </tr>\n",
       "    <tr>\n",
       "      <th>179</th>\n",
       "      <td>2nx10r</td>\n",
       "      <td>1</td>\n",
       "      <td>normal</td>\n",
       "      <td>160</td>\n",
       "      <td>3</td>\n",
       "      <td>1</td>\n",
       "      <td>0</td>\n",
       "      <td>0</td>\n",
       "      <td>201</td>\n",
       "      <td>0.0</td>\n",
       "      <td>0</td>\n",
       "      <td>54</td>\n",
       "      <td>163</td>\n",
       "      <td>0</td>\n",
       "      <td>0</td>\n",
       "    </tr>\n",
       "  </tbody>\n",
       "</table>\n",
       "<p>180 rows × 15 columns</p>\n",
       "</div>"
      ],
      "text/plain": [
       "    patient_id  slope_of_peak_exercise_st_segment               thal  \\\n",
       "0       0z64un                                  1             normal   \n",
       "1       ryoo3j                                  2             normal   \n",
       "2       yt1s1x                                  1             normal   \n",
       "3       l2xjde                                  1  reversible_defect   \n",
       "4       oyt4ek                                  3  reversible_defect   \n",
       "..         ...                                ...                ...   \n",
       "175     5qfar3                                  2  reversible_defect   \n",
       "176     2s2b1f                                  2             normal   \n",
       "177     nsd00i                                  2  reversible_defect   \n",
       "178     0xw93k                                  1             normal   \n",
       "179     2nx10r                                  1             normal   \n",
       "\n",
       "     resting_blood_pressure  chest_pain_type  num_major_vessels  \\\n",
       "0                       128                2                  0   \n",
       "1                       110                3                  0   \n",
       "2                       125                4                  3   \n",
       "3                       152                4                  0   \n",
       "4                       178                1                  0   \n",
       "..                      ...              ...                ...   \n",
       "175                     125                4                  2   \n",
       "176                     180                4                  0   \n",
       "177                     125                3                  0   \n",
       "178                     124                3                  2   \n",
       "179                     160                3                  1   \n",
       "\n",
       "     fasting_blood_sugar_gt_120_mg_per_dl  resting_ekg_results  \\\n",
       "0                                       0                    2   \n",
       "1                                       0                    0   \n",
       "2                                       0                    2   \n",
       "3                                       0                    0   \n",
       "4                                       0                    2   \n",
       "..                                    ...                  ...   \n",
       "175                                     1                    0   \n",
       "176                                     0                    1   \n",
       "177                                     0                    0   \n",
       "178                                     1                    0   \n",
       "179                                     0                    0   \n",
       "\n",
       "     serum_cholesterol_mg_per_dl  oldpeak_eq_st_depression  sex  age  \\\n",
       "0                            308                       0.0    1   45   \n",
       "1                            214                       1.6    0   54   \n",
       "2                            304                       0.0    1   77   \n",
       "3                            223                       0.0    1   40   \n",
       "4                            270                       4.2    1   59   \n",
       "..                           ...                       ...  ...  ...   \n",
       "175                          254                       0.2    1   67   \n",
       "176                          327                       3.4    0   55   \n",
       "177                          309                       1.8    1   64   \n",
       "178                          255                       0.0    1   48   \n",
       "179                          201                       0.0    0   54   \n",
       "\n",
       "     max_heart_rate_achieved  exercise_induced_angina  heart_disease_present  \n",
       "0                        170                        0                      0  \n",
       "1                        158                        0                      0  \n",
       "2                        162                        1                      1  \n",
       "3                        181                        0                      1  \n",
       "4                        145                        0                      0  \n",
       "..                       ...                      ...                    ...  \n",
       "175                      163                        0                      1  \n",
       "176                      117                        1                      1  \n",
       "177                      131                        1                      1  \n",
       "178                      175                        0                      0  \n",
       "179                      163                        0                      0  \n",
       "\n",
       "[180 rows x 15 columns]"
      ]
     },
     "execution_count": 2,
     "metadata": {},
     "output_type": "execute_result"
    }
   ],
   "source": [
    "df_o= pd.read_csv('values.csv')\n",
    "df_o"
   ]
  },
  {
   "cell_type": "markdown",
   "metadata": {},
   "source": [
    "### Step 3:  Identification of independent and dependent variable\n",
    "#### Independent Variables - All Features (From 'slope_of_peak_exercise_st_segment\t' to 'exercise_induced_angina')\n",
    "#### Dependent Variable - Heart Disease Present"
   ]
  },
  {
   "cell_type": "markdown",
   "metadata": {},
   "source": [
    "## Note: Step 4 and 5 were interchanged due data set is in need of Data Pre-processing before EDA"
   ]
  },
  {
   "cell_type": "markdown",
   "metadata": {},
   "source": [
    "### Step 4: Data Wrangling, Data Pre-processing, and Cleansing"
   ]
  },
  {
   "cell_type": "code",
   "execution_count": 3,
   "metadata": {
    "scrolled": true
   },
   "outputs": [
    {
     "data": {
      "text/plain": [
       "patient_id                              0\n",
       "slope_of_peak_exercise_st_segment       0\n",
       "thal                                    0\n",
       "resting_blood_pressure                  0\n",
       "chest_pain_type                         0\n",
       "num_major_vessels                       0\n",
       "fasting_blood_sugar_gt_120_mg_per_dl    0\n",
       "resting_ekg_results                     0\n",
       "serum_cholesterol_mg_per_dl             0\n",
       "oldpeak_eq_st_depression                0\n",
       "sex                                     0\n",
       "age                                     0\n",
       "max_heart_rate_achieved                 0\n",
       "exercise_induced_angina                 0\n",
       "heart_disease_present                   0\n",
       "dtype: int64"
      ]
     },
     "execution_count": 3,
     "metadata": {},
     "output_type": "execute_result"
    }
   ],
   "source": [
    "df_o.isnull().sum()"
   ]
  },
  {
   "cell_type": "code",
   "execution_count": 4,
   "metadata": {},
   "outputs": [
    {
     "name": "stdout",
     "output_type": "stream",
     "text": [
      "<class 'pandas.core.frame.DataFrame'>\n",
      "RangeIndex: 180 entries, 0 to 179\n",
      "Data columns (total 15 columns):\n",
      " #   Column                                Non-Null Count  Dtype  \n",
      "---  ------                                --------------  -----  \n",
      " 0   patient_id                            180 non-null    object \n",
      " 1   slope_of_peak_exercise_st_segment     180 non-null    int64  \n",
      " 2   thal                                  180 non-null    object \n",
      " 3   resting_blood_pressure                180 non-null    int64  \n",
      " 4   chest_pain_type                       180 non-null    int64  \n",
      " 5   num_major_vessels                     180 non-null    int64  \n",
      " 6   fasting_blood_sugar_gt_120_mg_per_dl  180 non-null    int64  \n",
      " 7   resting_ekg_results                   180 non-null    int64  \n",
      " 8   serum_cholesterol_mg_per_dl           180 non-null    int64  \n",
      " 9   oldpeak_eq_st_depression              180 non-null    float64\n",
      " 10  sex                                   180 non-null    int64  \n",
      " 11  age                                   180 non-null    int64  \n",
      " 12  max_heart_rate_achieved               180 non-null    int64  \n",
      " 13  exercise_induced_angina               180 non-null    int64  \n",
      " 14  heart_disease_present                 180 non-null    int64  \n",
      "dtypes: float64(1), int64(12), object(2)\n",
      "memory usage: 21.2+ KB\n"
     ]
    }
   ],
   "source": [
    "df_o.info()"
   ]
  },
  {
   "cell_type": "code",
   "execution_count": 5,
   "metadata": {},
   "outputs": [
    {
     "data": {
      "text/plain": [
       "array(['normal', 'reversible_defect', 'fixed_defect'], dtype=object)"
      ]
     },
     "execution_count": 5,
     "metadata": {},
     "output_type": "execute_result"
    }
   ],
   "source": [
    "df_o['thal'].unique()"
   ]
  },
  {
   "cell_type": "code",
   "execution_count": 6,
   "metadata": {
    "scrolled": true
   },
   "outputs": [],
   "source": [
    "df_o['thal'][df_o['thal'] == 'normal'] = 0\n",
    "df_o['thal'][df_o['thal'] == 'reversible_defect'] = 2\n",
    "df_o['thal'][df_o['thal'] == 'fixed_defect'] = 1\n",
    "df_o['thal'] = df_o['thal'].astype('int')"
   ]
  },
  {
   "cell_type": "code",
   "execution_count": 7,
   "metadata": {
    "scrolled": true
   },
   "outputs": [
    {
     "data": {
      "text/html": [
       "<div>\n",
       "<style scoped>\n",
       "    .dataframe tbody tr th:only-of-type {\n",
       "        vertical-align: middle;\n",
       "    }\n",
       "\n",
       "    .dataframe tbody tr th {\n",
       "        vertical-align: top;\n",
       "    }\n",
       "\n",
       "    .dataframe thead th {\n",
       "        text-align: right;\n",
       "    }\n",
       "</style>\n",
       "<table border=\"1\" class=\"dataframe\">\n",
       "  <thead>\n",
       "    <tr style=\"text-align: right;\">\n",
       "      <th></th>\n",
       "      <th>slope_of_peak_exercise_st_segment</th>\n",
       "      <th>thal</th>\n",
       "      <th>resting_blood_pressure</th>\n",
       "      <th>chest_pain_type</th>\n",
       "      <th>num_major_vessels</th>\n",
       "      <th>fasting_blood_sugar_gt_120_mg_per_dl</th>\n",
       "      <th>resting_ekg_results</th>\n",
       "      <th>serum_cholesterol_mg_per_dl</th>\n",
       "      <th>oldpeak_eq_st_depression</th>\n",
       "      <th>sex</th>\n",
       "      <th>age</th>\n",
       "      <th>max_heart_rate_achieved</th>\n",
       "      <th>exercise_induced_angina</th>\n",
       "      <th>heart_disease_present</th>\n",
       "    </tr>\n",
       "  </thead>\n",
       "  <tbody>\n",
       "    <tr>\n",
       "      <th>count</th>\n",
       "      <td>180.000000</td>\n",
       "      <td>180.000000</td>\n",
       "      <td>180.000000</td>\n",
       "      <td>180.000000</td>\n",
       "      <td>180.000000</td>\n",
       "      <td>180.000000</td>\n",
       "      <td>180.000000</td>\n",
       "      <td>180.000000</td>\n",
       "      <td>180.000000</td>\n",
       "      <td>180.000000</td>\n",
       "      <td>180.000000</td>\n",
       "      <td>180.000000</td>\n",
       "      <td>180.000000</td>\n",
       "      <td>180.000000</td>\n",
       "    </tr>\n",
       "    <tr>\n",
       "      <th>mean</th>\n",
       "      <td>1.550000</td>\n",
       "      <td>0.866667</td>\n",
       "      <td>131.311111</td>\n",
       "      <td>3.155556</td>\n",
       "      <td>0.694444</td>\n",
       "      <td>0.161111</td>\n",
       "      <td>1.050000</td>\n",
       "      <td>249.211111</td>\n",
       "      <td>1.010000</td>\n",
       "      <td>0.688889</td>\n",
       "      <td>54.811111</td>\n",
       "      <td>149.483333</td>\n",
       "      <td>0.316667</td>\n",
       "      <td>0.444444</td>\n",
       "    </tr>\n",
       "    <tr>\n",
       "      <th>std</th>\n",
       "      <td>0.618838</td>\n",
       "      <td>0.971091</td>\n",
       "      <td>17.010443</td>\n",
       "      <td>0.938454</td>\n",
       "      <td>0.969347</td>\n",
       "      <td>0.368659</td>\n",
       "      <td>0.998742</td>\n",
       "      <td>52.717969</td>\n",
       "      <td>1.121357</td>\n",
       "      <td>0.464239</td>\n",
       "      <td>9.334737</td>\n",
       "      <td>22.063513</td>\n",
       "      <td>0.466474</td>\n",
       "      <td>0.498290</td>\n",
       "    </tr>\n",
       "    <tr>\n",
       "      <th>min</th>\n",
       "      <td>1.000000</td>\n",
       "      <td>0.000000</td>\n",
       "      <td>94.000000</td>\n",
       "      <td>1.000000</td>\n",
       "      <td>0.000000</td>\n",
       "      <td>0.000000</td>\n",
       "      <td>0.000000</td>\n",
       "      <td>126.000000</td>\n",
       "      <td>0.000000</td>\n",
       "      <td>0.000000</td>\n",
       "      <td>29.000000</td>\n",
       "      <td>96.000000</td>\n",
       "      <td>0.000000</td>\n",
       "      <td>0.000000</td>\n",
       "    </tr>\n",
       "    <tr>\n",
       "      <th>25%</th>\n",
       "      <td>1.000000</td>\n",
       "      <td>0.000000</td>\n",
       "      <td>120.000000</td>\n",
       "      <td>3.000000</td>\n",
       "      <td>0.000000</td>\n",
       "      <td>0.000000</td>\n",
       "      <td>0.000000</td>\n",
       "      <td>213.750000</td>\n",
       "      <td>0.000000</td>\n",
       "      <td>0.000000</td>\n",
       "      <td>48.000000</td>\n",
       "      <td>132.000000</td>\n",
       "      <td>0.000000</td>\n",
       "      <td>0.000000</td>\n",
       "    </tr>\n",
       "    <tr>\n",
       "      <th>50%</th>\n",
       "      <td>1.000000</td>\n",
       "      <td>0.000000</td>\n",
       "      <td>130.000000</td>\n",
       "      <td>3.000000</td>\n",
       "      <td>0.000000</td>\n",
       "      <td>0.000000</td>\n",
       "      <td>2.000000</td>\n",
       "      <td>245.500000</td>\n",
       "      <td>0.800000</td>\n",
       "      <td>1.000000</td>\n",
       "      <td>55.000000</td>\n",
       "      <td>152.000000</td>\n",
       "      <td>0.000000</td>\n",
       "      <td>0.000000</td>\n",
       "    </tr>\n",
       "    <tr>\n",
       "      <th>75%</th>\n",
       "      <td>2.000000</td>\n",
       "      <td>2.000000</td>\n",
       "      <td>140.000000</td>\n",
       "      <td>4.000000</td>\n",
       "      <td>1.000000</td>\n",
       "      <td>0.000000</td>\n",
       "      <td>2.000000</td>\n",
       "      <td>281.250000</td>\n",
       "      <td>1.600000</td>\n",
       "      <td>1.000000</td>\n",
       "      <td>62.000000</td>\n",
       "      <td>166.250000</td>\n",
       "      <td>1.000000</td>\n",
       "      <td>1.000000</td>\n",
       "    </tr>\n",
       "    <tr>\n",
       "      <th>max</th>\n",
       "      <td>3.000000</td>\n",
       "      <td>2.000000</td>\n",
       "      <td>180.000000</td>\n",
       "      <td>4.000000</td>\n",
       "      <td>3.000000</td>\n",
       "      <td>1.000000</td>\n",
       "      <td>2.000000</td>\n",
       "      <td>564.000000</td>\n",
       "      <td>6.200000</td>\n",
       "      <td>1.000000</td>\n",
       "      <td>77.000000</td>\n",
       "      <td>202.000000</td>\n",
       "      <td>1.000000</td>\n",
       "      <td>1.000000</td>\n",
       "    </tr>\n",
       "  </tbody>\n",
       "</table>\n",
       "</div>"
      ],
      "text/plain": [
       "       slope_of_peak_exercise_st_segment        thal  resting_blood_pressure  \\\n",
       "count                         180.000000  180.000000              180.000000   \n",
       "mean                            1.550000    0.866667              131.311111   \n",
       "std                             0.618838    0.971091               17.010443   \n",
       "min                             1.000000    0.000000               94.000000   \n",
       "25%                             1.000000    0.000000              120.000000   \n",
       "50%                             1.000000    0.000000              130.000000   \n",
       "75%                             2.000000    2.000000              140.000000   \n",
       "max                             3.000000    2.000000              180.000000   \n",
       "\n",
       "       chest_pain_type  num_major_vessels  \\\n",
       "count       180.000000         180.000000   \n",
       "mean          3.155556           0.694444   \n",
       "std           0.938454           0.969347   \n",
       "min           1.000000           0.000000   \n",
       "25%           3.000000           0.000000   \n",
       "50%           3.000000           0.000000   \n",
       "75%           4.000000           1.000000   \n",
       "max           4.000000           3.000000   \n",
       "\n",
       "       fasting_blood_sugar_gt_120_mg_per_dl  resting_ekg_results  \\\n",
       "count                            180.000000           180.000000   \n",
       "mean                               0.161111             1.050000   \n",
       "std                                0.368659             0.998742   \n",
       "min                                0.000000             0.000000   \n",
       "25%                                0.000000             0.000000   \n",
       "50%                                0.000000             2.000000   \n",
       "75%                                0.000000             2.000000   \n",
       "max                                1.000000             2.000000   \n",
       "\n",
       "       serum_cholesterol_mg_per_dl  oldpeak_eq_st_depression         sex  \\\n",
       "count                   180.000000                180.000000  180.000000   \n",
       "mean                    249.211111                  1.010000    0.688889   \n",
       "std                      52.717969                  1.121357    0.464239   \n",
       "min                     126.000000                  0.000000    0.000000   \n",
       "25%                     213.750000                  0.000000    0.000000   \n",
       "50%                     245.500000                  0.800000    1.000000   \n",
       "75%                     281.250000                  1.600000    1.000000   \n",
       "max                     564.000000                  6.200000    1.000000   \n",
       "\n",
       "              age  max_heart_rate_achieved  exercise_induced_angina  \\\n",
       "count  180.000000               180.000000               180.000000   \n",
       "mean    54.811111               149.483333                 0.316667   \n",
       "std      9.334737                22.063513                 0.466474   \n",
       "min     29.000000                96.000000                 0.000000   \n",
       "25%     48.000000               132.000000                 0.000000   \n",
       "50%     55.000000               152.000000                 0.000000   \n",
       "75%     62.000000               166.250000                 1.000000   \n",
       "max     77.000000               202.000000                 1.000000   \n",
       "\n",
       "       heart_disease_present  \n",
       "count             180.000000  \n",
       "mean                0.444444  \n",
       "std                 0.498290  \n",
       "min                 0.000000  \n",
       "25%                 0.000000  \n",
       "50%                 0.000000  \n",
       "75%                 1.000000  \n",
       "max                 1.000000  "
      ]
     },
     "execution_count": 7,
     "metadata": {},
     "output_type": "execute_result"
    }
   ],
   "source": [
    "df_o.describe()"
   ]
  },
  {
   "cell_type": "markdown",
   "metadata": {},
   "source": [
    "### Checking whether the data is balance or imbalance"
   ]
  },
  {
   "cell_type": "code",
   "execution_count": 8,
   "metadata": {
    "scrolled": true
   },
   "outputs": [
    {
     "data": {
      "text/plain": [
       "<AxesSubplot:xlabel='heart_disease_present', ylabel='count'>"
      ]
     },
     "execution_count": 8,
     "metadata": {},
     "output_type": "execute_result"
    },
    {
     "data": {
      "image/png": "[encoded data removed]",
      "text/plain": [
       "<Figure size 432x288 with 1 Axes>"
      ]
     },
     "metadata": {
      "needs_background": "light"
     },
     "output_type": "display_data"
    }
   ],
   "source": [
    "#df_o['heart_disease_present'].value_counts()\n",
    "sns.countplot(df_o['heart_disease_present'])"
   ]
  },
  {
   "cell_type": "markdown",
   "metadata": {},
   "source": [
    "### Step 5: EDA"
   ]
  },
  {
   "cell_type": "markdown",
   "metadata": {},
   "source": [
    "### Purpose: Analyzing of categorical features versus the output"
   ]
  },
  {
   "cell_type": "code",
   "execution_count": 9,
   "metadata": {
    "scrolled": false
   },
   "outputs": [
    {
     "data": {
      "text/plain": [
       "<matplotlib.legend.Legend at 0x2152c4632b0>"
      ]
     },
     "execution_count": 9,
     "metadata": {},
     "output_type": "execute_result"
    },
    {
     "data": {
      "image/png": "[encoded data removed]",
      "text/plain": [
       "<Figure size 1440x720 with 8 Axes>"
      ]
     },
     "metadata": {
      "needs_background": "light"
     },
     "output_type": "display_data"
    }
   ],
   "source": [
    "fig, ax = plt.subplots(2,4, figsize = (20,10))\n",
    "\n",
    "sns.histplot(data = df_o, x = df_o['slope_of_peak_exercise_st_segment'], ax = ax[0,0],hue=\"heart_disease_present\", multiple= \"stack\", legend = False)\n",
    "sns.histplot(data = df_o, x = df_o['chest_pain_type'], ax = ax[0,1],hue=\"heart_disease_present\", multiple= \"stack\", legend = False)\n",
    "sns.histplot(data = df_o, x = df_o['num_major_vessels'], ax = ax[0,2],hue=\"heart_disease_present\", multiple= \"stack\", legend = False)\n",
    "sns.histplot(data = df_o, x = df_o['fasting_blood_sugar_gt_120_mg_per_dl'], ax = ax[0,3],hue=\"heart_disease_present\", multiple= \"stack\", legend = False)\n",
    "sns.histplot(data = df_o, x = df_o['sex'], ax = ax[1,0],hue=\"heart_disease_present\", multiple= \"stack\", legend = False)\n",
    "sns.histplot(data = df_o, x = df_o['resting_ekg_results'], ax = ax[1,1],hue=\"heart_disease_present\", multiple= \"stack\", legend = False)\n",
    "sns.histplot(data = df_o, x = df_o['exercise_induced_angina'], ax = ax[1,2],hue=\"heart_disease_present\", multiple= \"stack\", legend = False)\n",
    "sns.histplot(data = df_o, x = df_o['thal'], ax = ax[1,3],hue=\"heart_disease_present\", multiple= \"stack\", legend = False)\n",
    "fig.legend(title='Heart Disease Present', labels=[1,0], loc='upper center')\n"
   ]
  },
  {
   "cell_type": "code",
   "execution_count": 10,
   "metadata": {},
   "outputs": [],
   "source": [
    "#more men are having heart disease problems\n",
    "#reversible defects have the higher chance of getting heart disease\n",
    "#The higher the chest pain (values from 1 to 4) have the highest chance of heart disease present\n",
    "#lower value of fasting blood sugar have higher rates of getting heart disease\n",
    "#Based on the ratio of the bar in slope of peak exercise st segment, 2 and 3 values have higher chances of heart disease"
   ]
  },
  {
   "cell_type": "code",
   "execution_count": 11,
   "metadata": {},
   "outputs": [
    {
     "data": {
      "image/png": "[encoded data removed]",
      "text/plain": [
       "<Figure size 1440x432 with 1 Axes>"
      ]
     },
     "metadata": {
      "needs_background": "light"
     },
     "output_type": "display_data"
    }
   ],
   "source": [
    "pd.crosstab(df_o['age'],df_o['heart_disease_present']).plot(kind=\"bar\",figsize=(20,6))\n",
    "plt.title('Heart Disease Frequency for Ages')\n",
    "plt.xlabel('Age')\n",
    "plt.ylabel('Frequency')\n",
    "plt.show()"
   ]
  },
  {
   "cell_type": "markdown",
   "metadata": {},
   "source": [
    "### Purpose:Analyzing the Distributions of continuous feature"
   ]
  },
  {
   "cell_type": "code",
   "execution_count": 12,
   "metadata": {
    "scrolled": false
   },
   "outputs": [
    {
     "data": {
      "text/plain": [
       "<AxesSubplot:xlabel='max_heart_rate_achieved', ylabel='Density'>"
      ]
     },
     "execution_count": 12,
     "metadata": {},
     "output_type": "execute_result"
    },
    {
     "data": {
      "image/png": "[encoded data removed]",
      "text/plain": [
       "<Figure size 1440x720 with 6 Axes>"
      ]
     },
     "metadata": {
      "needs_background": "light"
     },
     "output_type": "display_data"
    }
   ],
   "source": [
    "#For Distrbution\n",
    "fig, ax = plt.subplots(2,3, figsize = (20,10))\n",
    "sns.distplot(df_o['resting_blood_pressure'], ax = ax[0,0])\n",
    "sns.distplot(df_o['serum_cholesterol_mg_per_dl'], ax = ax[1,0])\n",
    "sns.distplot(df_o['oldpeak_eq_st_depression'], ax = ax[0,1])\n",
    "sns.distplot(df_o['age'], ax = ax[1,1])\n",
    "sns.distplot(df_o['max_heart_rate_achieved'], ax = ax[1,2])\n"
   ]
  },
  {
   "cell_type": "code",
   "execution_count": 13,
   "metadata": {},
   "outputs": [],
   "source": [
    "import matplotlib.patches as mpatches\n",
    "pop_a = mpatches.Patch(color='blue', label='0')\n",
    "pop_b = mpatches.Patch(color='red', label='1')"
   ]
  },
  {
   "cell_type": "markdown",
   "metadata": {},
   "source": [
    "### Purpose: Insight Gathering \n",
    "* To understand correlation between features and with heart disease present or not"
   ]
  },
  {
   "cell_type": "code",
   "execution_count": 14,
   "metadata": {
    "scrolled": false
   },
   "outputs": [
    {
     "data": {
      "text/plain": [
       "<matplotlib.legend.Legend at 0x2152edf2a00>"
      ]
     },
     "execution_count": 14,
     "metadata": {},
     "output_type": "execute_result"
    },
    {
     "data": {
      "image/png": "[encoded data removed]",
      "text/plain": [
       "<Figure size 1440x720 with 6 Axes>"
      ]
     },
     "metadata": {
      "needs_background": "light"
     },
     "output_type": "display_data"
    }
   ],
   "source": [
    "fig, ax = plt.subplots(2,3, figsize = (20,10))\n",
    "sns.scatterplot(data = df_o, x = df_o['age'] ,y = df_o['resting_blood_pressure'], ax = ax[0,0], hue = df_o['heart_disease_present'], palette = ['blue', 'red'] ,legend = False)\n",
    "sns.scatterplot(data = df_o, x = df_o['age'] ,y = df_o['max_heart_rate_achieved'], ax = ax[0,1], hue = df_o['heart_disease_present'], palette = ['blue', 'red'],legend = False)\n",
    "sns.scatterplot(data = df_o, x = df_o['age'] ,y = df_o['serum_cholesterol_mg_per_dl'], ax = ax[0,2], hue = df_o['heart_disease_present'], palette = ['blue', 'red'],legend = False)\n",
    "sns.scatterplot(data = df_o, x = df_o['age'] ,y = df_o['oldpeak_eq_st_depression'], ax = ax[1,0], hue = df_o['heart_disease_present'], palette = ['blue', 'red'],legend = False)\n",
    "sns.scatterplot(data = df_o, x = df_o['serum_cholesterol_mg_per_dl'] ,y = df_o['oldpeak_eq_st_depression'], ax = ax[1,1], hue = df_o['heart_disease_present'], palette = ['blue', 'red'],legend = False)\n",
    "sns.scatterplot(data = df_o, x = df_o['serum_cholesterol_mg_per_dl'] ,y = df_o['max_heart_rate_achieved'], ax = ax[1,2], hue = df_o['heart_disease_present'], palette = ['blue', 'red'],legend = False)\n",
    "#fig.legend(title='Heart Disease Present', loc='upper center', labels = [0,1])\n",
    "handles, labels = ax[0,0].get_legend_handles_labels()\n",
    "fig.legend(bbox_to_anchor=(0.5, 1),\n",
    "           title='Heart Disease Present',loc='upper center', handles = [pop_a, pop_b], labels = [0,1])\n"
   ]
  },
  {
   "cell_type": "markdown",
   "metadata": {},
   "source": [
    "### Purpose: Identifying of outliers and understand the variations of the dataset"
   ]
  },
  {
   "cell_type": "code",
   "execution_count": 15,
   "metadata": {},
   "outputs": [
    {
     "data": {
      "image/png": "[encoded data removed]",
      "text/plain": [
       "<Figure size 1440x360 with 5 Axes>"
      ]
     },
     "metadata": {
      "needs_background": "light"
     },
     "output_type": "display_data"
    }
   ],
   "source": [
    "#ax = sns.boxplot(x=\"day\", y=\"total_bill\", data=tips)\n",
    "fig, ax = plt.subplots(ncols=5, figsize = (20,5))\n",
    "#sns.boxplot(x = df_o['heart_disease_present'], y = df_o['resting_blood_pressure'], data = df_o)\n",
    "\n",
    "sns.boxplot(x = df_o['heart_disease_present'],y = df_o['resting_blood_pressure'], ax = ax[0])\n",
    "ax[0].set_title('resting_blood_pressure vs Target')\n",
    "sns.boxplot(x = df_o['heart_disease_present'],y = df_o['serum_cholesterol_mg_per_dl'], ax = ax[1])\n",
    "ax[1].set_title('serum_cholesterol_mg_per_dl vs Target')\n",
    "sns.boxplot(x = df_o['heart_disease_present'],y = df_o['oldpeak_eq_st_depression'], ax = ax[2])\n",
    "ax[2].set_title('oldpeak_eq_st_depression vs Target')\n",
    "sns.boxplot(x = df_o['heart_disease_present'],y = df_o['age'], ax = ax[3])\n",
    "ax[3].set_title('age vs Target')\n",
    "sns.boxplot(x = df_o['heart_disease_present'],y = df_o['max_heart_rate_achieved'], ax = ax[4])\n",
    "ax[4].set_title('max_heart_rate_achieved vs Target')\n",
    "plt.tight_layout()"
   ]
  },
  {
   "cell_type": "markdown",
   "metadata": {},
   "source": [
    "#### Acquire training and testing data\n",
    "* with Application of SMOTE over training data only"
   ]
  },
  {
   "cell_type": "code",
   "execution_count": 17,
   "metadata": {},
   "outputs": [],
   "source": [
    "X= df_o.iloc[:,1:-1]\n",
    "y = df_o.iloc[:,-1:]\n",
    "from sklearn.model_selection import train_test_split\n",
    "X_train, X_test, y_train, y_test = train_test_split(X, y, test_size=0.2, random_state=0)\n",
    "from imblearn.over_sampling import SMOTE\n",
    "oversampling =  SMOTE(random_state=4)\n",
    "X_train_over , y_train_over  = oversampling.fit_resample(X_train, y_train)"
   ]
  },
  {
   "cell_type": "code",
   "execution_count": 18,
   "metadata": {
    "scrolled": false
   },
   "outputs": [
    {
     "name": "stdout",
     "output_type": "stream",
     "text": [
      "heart_disease_present\n",
      "0                        76\n",
      "1                        76\n",
      "dtype: int64\n",
      "heart_disease_present\n",
      "0                        24\n",
      "1                        12\n",
      "dtype: int64\n"
     ]
    }
   ],
   "source": [
    "print(y_train_over.value_counts())\n",
    "print(y_test.value_counts())"
   ]
  },
  {
   "cell_type": "markdown",
   "metadata": {},
   "source": [
    "### Step 6-7-8: Model Selection and Building, \n",
    "* **Feature Selection using RFE**\n",
    "* **Hyperparameters Tuning using RandomizedSearch CV**"
   ]
  },
  {
   "cell_type": "markdown",
   "metadata": {},
   "source": [
    "### Model building (With Outliers)\n",
    "* Logistic Regression\n",
    "* Random Forest\n",
    "* Gradient Boosting\n",
    "* XGB\n",
    "* KNN - performs poorly, so the team decided to remove \n",
    "* SVM - took too much time to train/fit\n",
    "* Stacking Classifier "
   ]
  },
  {
   "cell_type": "markdown",
   "metadata": {},
   "source": [
    "### Logistic Regression"
   ]
  },
  {
   "cell_type": "code",
   "execution_count": 19,
   "metadata": {},
   "outputs": [
    {
     "name": "stdout",
     "output_type": "stream",
     "text": [
      "LogisticRegression(C=50, penalty='l1', random_state=0, solver='liblinear')\n",
      "0.8161290322580645\n"
     ]
    }
   ],
   "source": [
    "\n",
    " \n",
    "from sklearn.linear_model import LogisticRegression\n",
    "from sklearn.model_selection import cross_validate\n",
    "from sklearn.metrics import accuracy_score, recall_score,f1_score,precision_score\n",
    "from sklearn.feature_selection import RFE\n",
    "\n",
    "lr_model = LogisticRegression(C=0.1, solver='liblinear', random_state= 0)\n",
    "\n",
    "from sklearn.model_selection import GridSearchCV, RandomizedSearchCV\n",
    "parameters = {'solver': ['newton-cg', 'lbfgs', 'liblinear', 'sag', 'sag'],\n",
    "              'penalty':['none', 'l1', 'l2', 'elasticnet'],\n",
    "              'C' : [0.001, 0.10, 0.1, 10, 25, 50, 100, 1000]\n",
    "             }  \n",
    "\n",
    "\n",
    "lr_grid = RandomizedSearchCV(lr_model,parameters,cv=5)\n",
    "lr_grid.fit(X_train_over,y_train_over)\n",
    "print(lr_grid.best_estimator_)\n",
    "print(lr_grid.best_score_)\n"
   ]
  },
  {
   "cell_type": "code",
   "execution_count": 83,
   "metadata": {},
   "outputs": [
    {
     "name": "stdout",
     "output_type": "stream",
     "text": [
      "Feature Ranking: [1 1 4 1 1 1 1 3 1 1 2 1 1]\n"
     ]
    }
   ],
   "source": [
    "lr_rfe = RFE(lr_model, n_features_to_select = 10)\n",
    "fit = lr_rfe.fit(X_train_over, y_train_over)\n",
    "print(\"Feature Ranking: %s\" % (fit.ranking_))\n",
    "\n"
   ]
  },
  {
   "cell_type": "code",
   "execution_count": 21,
   "metadata": {},
   "outputs": [
    {
     "name": "stdout",
     "output_type": "stream",
     "text": [
      "Number of features selected: 2\n",
      "The Accuracy for Training Phase: 0.7894736842105263\n",
      "The Average Precision for Training Phase: 0.7619047619047619\n",
      "The Average Recall for Training Phase: 0.8421052631578947\n",
      "The Average F1 for Training Phase: 0.8\n",
      "Number of features selected: 3\n",
      "The Accuracy for Training Phase: 0.7960526315789473\n",
      "The Average Precision for Training Phase: 0.7586206896551724\n",
      "The Average Recall for Training Phase: 0.868421052631579\n",
      "The Average F1 for Training Phase: 0.8098159509202454\n",
      "Number of features selected: 4\n",
      "The Accuracy for Training Phase: 0.7960526315789473\n",
      "The Average Precision for Training Phase: 0.7647058823529411\n",
      "The Average Recall for Training Phase: 0.8552631578947368\n",
      "The Average F1 for Training Phase: 0.8074534161490684\n",
      "Number of features selected: 5\n",
      "The Accuracy for Training Phase: 0.7960526315789473\n",
      "The Average Precision for Training Phase: 0.7647058823529411\n",
      "The Average Recall for Training Phase: 0.8552631578947368\n",
      "The Average F1 for Training Phase: 0.8074534161490684\n",
      "Number of features selected: 6\n",
      "The Accuracy for Training Phase: 0.7828947368421053\n",
      "The Average Precision for Training Phase: 0.7471264367816092\n",
      "The Average Recall for Training Phase: 0.8552631578947368\n",
      "The Average F1 for Training Phase: 0.7975460122699386\n",
      "Number of features selected: 7\n",
      "The Accuracy for Training Phase: 0.8026315789473685\n",
      "The Average Precision for Training Phase: 0.7674418604651163\n",
      "The Average Recall for Training Phase: 0.868421052631579\n",
      "The Average F1 for Training Phase: 0.8148148148148148\n",
      "Number of features selected: 8\n",
      "The Accuracy for Training Phase: 0.7960526315789473\n",
      "The Average Precision for Training Phase: 0.7647058823529411\n",
      "The Average Recall for Training Phase: 0.8552631578947368\n",
      "The Average F1 for Training Phase: 0.8074534161490684\n",
      "Number of features selected: 9\n",
      "The Accuracy for Training Phase: 0.8026315789473685\n",
      "The Average Precision for Training Phase: 0.7613636363636364\n",
      "The Average Recall for Training Phase: 0.881578947368421\n",
      "The Average F1 for Training Phase: 0.8170731707317073\n",
      "Number of features selected: 10\n",
      "The Accuracy for Training Phase: 0.8552631578947368\n",
      "The Average Precision for Training Phase: 0.875\n",
      "The Average Recall for Training Phase: 0.8289473684210527\n",
      "The Average F1 for Training Phase: 0.8513513513513513\n",
      "Number of features selected: 11\n",
      "The Accuracy for Training Phase: 0.8552631578947368\n",
      "The Average Precision for Training Phase: 0.875\n",
      "The Average Recall for Training Phase: 0.8289473684210527\n",
      "The Average F1 for Training Phase: 0.8513513513513513\n",
      "Number of features selected: 12\n",
      "The Accuracy for Training Phase: 0.8618421052631579\n",
      "The Average Precision for Training Phase: 0.8873239436619719\n",
      "The Average Recall for Training Phase: 0.8289473684210527\n",
      "The Average F1 for Training Phase: 0.8571428571428571\n",
      "Number of features selected: 13\n",
      "The Accuracy for Training Phase: 0.8355263157894737\n",
      "The Average Precision for Training Phase: 0.8591549295774648\n",
      "The Average Recall for Training Phase: 0.8026315789473685\n",
      "The Average F1 for Training Phase: 0.8299319727891157\n"
     ]
    }
   ],
   "source": [
    "for i in range(2, 14):\n",
    "    lr_rfe = RFE(lr_model, i)\n",
    "    fit = lr_rfe.fit(X_train_over, y_train_over)\n",
    "    X_train_selected = lr_rfe.transform(X_train_over)\n",
    "    X_test_selected = lr_rfe.transform(X_test)\n",
    "    lr_model.fit(X_train_selected,y_train_over)\n",
    "    preds_lr1 = lr_model.predict(X_train_selected)\n",
    "    print(\"Number of features selected:\", i)\n",
    "    print('The Accuracy for Training Phase:', accuracy_score(y_train_over, preds_lr1))\n",
    "    print('The Average Precision for Training Phase:', precision_score(y_train_over, preds_lr1))\n",
    "    print('The Average Recall for Training Phase:',recall_score(y_train_over, preds_lr1))\n",
    "    print('The Average F1 for Training Phase:',f1_score(y_train_over, preds_lr1))"
   ]
  },
  {
   "cell_type": "code",
   "execution_count": 22,
   "metadata": {},
   "outputs": [
    {
     "name": "stdout",
     "output_type": "stream",
     "text": [
      "TRAINING METRICS\n",
      "The Accuracy for Training Phase: 0.8552631578947368\n",
      "The Precision for Training Phase: 0.875\n",
      "The Recall for Training Phase: 0.8289473684210527\n",
      "The F1 for Training Phase: 0.8513513513513513\n",
      "TESTING METRICS\n",
      "The Accuracy for Testing Phase: 0.8611111111111112\n",
      "The Average Precision for Testing Phase: 0.7333333333333333\n",
      "The Average Recall for Testing Phase: 0.9166666666666666\n",
      "The Average F1 for Testing Phase: 0.8148148148148148\n"
     ]
    },
    {
     "data": {
      "text/html": [
       "<div>\n",
       "<style scoped>\n",
       "    .dataframe tbody tr th:only-of-type {\n",
       "        vertical-align: middle;\n",
       "    }\n",
       "\n",
       "    .dataframe tbody tr th {\n",
       "        vertical-align: top;\n",
       "    }\n",
       "\n",
       "    .dataframe thead th {\n",
       "        text-align: right;\n",
       "    }\n",
       "</style>\n",
       "<table border=\"1\" class=\"dataframe\">\n",
       "  <thead>\n",
       "    <tr style=\"text-align: right;\">\n",
       "      <th>col_0</th>\n",
       "      <th>0</th>\n",
       "      <th>1</th>\n",
       "    </tr>\n",
       "    <tr>\n",
       "      <th>row_0</th>\n",
       "      <th></th>\n",
       "      <th></th>\n",
       "    </tr>\n",
       "  </thead>\n",
       "  <tbody>\n",
       "    <tr>\n",
       "      <th>0</th>\n",
       "      <td>20</td>\n",
       "      <td>4</td>\n",
       "    </tr>\n",
       "    <tr>\n",
       "      <th>1</th>\n",
       "      <td>1</td>\n",
       "      <td>11</td>\n",
       "    </tr>\n",
       "  </tbody>\n",
       "</table>\n",
       "</div>"
      ],
      "text/plain": [
       "col_0   0   1\n",
       "row_0        \n",
       "0      20   4\n",
       "1       1  11"
      ]
     },
     "execution_count": 22,
     "metadata": {},
     "output_type": "execute_result"
    }
   ],
   "source": [
    "lr_rfe = RFE(lr_model, n_features_to_select = 10)\n",
    "fit = lr_rfe.fit(X_train_over, y_train_over)\n",
    "X_test_selected = lr_rfe.transform(X_test)\n",
    "X_train_selected = lr_rfe.transform(X_train_over)\n",
    "X_selected = lr_rfe.transform(X)\n",
    "lr_model.fit(X_train_selected,y_train_over)\n",
    "\n",
    "\n",
    "preds_lr = lr_model.predict(X_test_selected)\n",
    "\n",
    "print('TRAINING METRICS')\n",
    "print('The Accuracy for Training Phase:', accuracy_score(y_train_over,lr_model.predict(X_train_selected)))\n",
    "print('The Precision for Training Phase:', precision_score(y_train_over, lr_model.predict(X_train_selected)))\n",
    "print('The Recall for Training Phase:',recall_score(y_train_over, lr_model.predict(X_train_selected)))\n",
    "print('The F1 for Training Phase:',f1_score(y_train_over, lr_model.predict(X_train_selected)))\n",
    "\n",
    "print('TESTING METRICS')\n",
    "print('The Accuracy for Testing Phase:', accuracy_score(y_test, preds_lr))\n",
    "print('The Average Precision for Testing Phase:', precision_score(y_test, preds_lr))\n",
    "print('The Average Recall for Testing Phase:',recall_score(y_test, preds_lr))\n",
    "print('The Average F1 for Testing Phase:',f1_score(y_test, preds_lr))\n",
    "pd.crosstab(y_test.values.ravel(),preds_lr)"
   ]
  },
  {
   "cell_type": "code",
   "execution_count": 23,
   "metadata": {},
   "outputs": [
    {
     "name": "stdout",
     "output_type": "stream",
     "text": [
      "TESTING METRICS\n",
      "The Average Accuracy for Testing Phase: 0.8555555555555556\n",
      "The Accuracy STD for Testing Phase: 0.034246744460938776\n",
      "The Average Precision for Testing Phase: 0.8640618640618641\n",
      "The Precision STD for Testing Phase: 0.01811951916121453\n",
      "The Average Recall for Testing Phase: 0.7986704653371319\n",
      "The Recall STD for Testing Phase: 0.08106179423693559\n",
      "The Average F1 for Testing Phase: 0.8283450049808941\n",
      "The F1 STD for Testing Phase: 0.05020348071654803\n",
      " \n"
     ]
    }
   ],
   "source": [
    "#For Generalization\n",
    "\n",
    "lr_rfe = RFE(lr_model, n_features_to_select = 10)\n",
    "fit = lr_rfe.fit(X_train_over, y_train_over)\n",
    "X_test_selected1 = lr_rfe.transform(X_test)\n",
    "X_train_selected1 = lr_rfe.transform(X_train_over)\n",
    "X_selected1 = lr_rfe.transform(X)\n",
    "lr_model.fit(X_train_selected1,y_train_over)\n",
    "scores1 = cross_validate(lr_model,X_selected1,y,cv=3,scoring=['accuracy','f1','precision', 'recall'], return_train_score=True)\n",
    "print('TESTING METRICS')\n",
    "print('The Average Accuracy for Testing Phase:',scores1['test_accuracy'].mean())\n",
    "print('The Accuracy STD for Testing Phase:',scores1['test_accuracy'].std())\n",
    "print('The Average Precision for Testing Phase:',scores1['test_precision'].mean())\n",
    "print('The Precision STD for Testing Phase:',scores1['test_precision'].std())\n",
    "print('The Average Recall for Testing Phase:',scores1['test_recall'].mean())\n",
    "print('The Recall STD for Testing Phase:',scores1['test_recall'].std())\n",
    "print('The Average F1 for Testing Phase:',scores1['test_f1'].mean())\n",
    "print('The F1 STD for Testing Phase:',scores1['test_f1'].std())\n",
    "print(\" \")"
   ]
  },
  {
   "cell_type": "code",
   "execution_count": 24,
   "metadata": {},
   "outputs": [
    {
     "name": "stdout",
     "output_type": "stream",
     "text": [
      "The Average Accuracy for Testing Phase: 0.8297909390142401\n"
     ]
    }
   ],
   "source": [
    "print('The Average Accuracy for Testing Phase:',scores1['train_f1'].mean())"
   ]
  },
  {
   "cell_type": "markdown",
   "metadata": {},
   "source": [
    "## RandomForestClassifier"
   ]
  },
  {
   "cell_type": "code",
   "execution_count": 25,
   "metadata": {},
   "outputs": [
    {
     "name": "stdout",
     "output_type": "stream",
     "text": [
      "RandomForestClassifier(bootstrap='True', max_depth=8, max_features=7,\n",
      "                       n_estimators=200, oob_score='True', random_state=0)\n",
      "0.8161290322580645\n"
     ]
    }
   ],
   "source": [
    "from sklearn.ensemble import RandomForestClassifier\n",
    "rf_model = RandomForestClassifier(max_depth=4,\n",
    "                       n_estimators=200,random_state= 0)\n",
    "\n",
    "parameters = {'max_depth':[2,4,6,8],\n",
    "              'n_estimators':[30,40,50,100,200],\n",
    "              'max_features' : [7,8,9,10,11,12,13],\n",
    "              'oob_score': ['True', 'False'],\n",
    "              'bootstrap':['True', 'False'],\n",
    "             }  \n",
    "\n",
    "#grid = GridSearchCV(rf_model,parameters,cv=5,verbose=2)\n",
    "rf_grid = RandomizedSearchCV(rf_model,parameters,cv=5)\n",
    "rf_grid.fit(X_train_over,y_train_over)\n",
    "print(rf_grid.best_estimator_)\n",
    "print(rf_grid.best_score_)"
   ]
  },
  {
   "cell_type": "code",
   "execution_count": 26,
   "metadata": {},
   "outputs": [
    {
     "name": "stdout",
     "output_type": "stream",
     "text": [
      "Feature Ranking: [4 1 1 1 1 6 5 1 1 3 1 1 2]\n"
     ]
    }
   ],
   "source": [
    "rf_rfe = RFE(rf_model, n_features_to_select = 8)\n",
    "fit = rf_rfe.fit(X_train_over, y_train_over)\n",
    "print(\"Feature Ranking: %s\" % (fit.ranking_))\n",
    "#'slope_of_peak_exercise_st_segment','thal','resting_blood_pressure','chest_pain_type','num_major_vessels','fasting_blood_sugar_gt_120_mg_per_dl','resting_ekg_results','serum_cholesterol_mg_per_dl','oldpeak_eq_st_depression','sex','age','max_heart_rate_achieved','exercise_induced_angina'\n"
   ]
  },
  {
   "cell_type": "code",
   "execution_count": 27,
   "metadata": {},
   "outputs": [
    {
     "name": "stdout",
     "output_type": "stream",
     "text": [
      "Number of features selected: 2\n",
      "The Accuracy for Training Phase: 0.7960526315789473\n",
      "The Average Precision for Training Phase: 0.8169014084507042\n",
      "The Average Recall for Training Phase: 0.7631578947368421\n",
      "The Average F1 for Training Phase: 0.7891156462585034\n",
      "Number of features selected: 3\n",
      "The Accuracy for Training Phase: 0.8421052631578947\n",
      "The Average Precision for Training Phase: 0.8939393939393939\n",
      "The Average Recall for Training Phase: 0.7763157894736842\n",
      "The Average F1 for Training Phase: 0.8309859154929577\n",
      "Number of features selected: 4\n",
      "The Accuracy for Training Phase: 0.8618421052631579\n",
      "The Average Precision for Training Phase: 0.9104477611940298\n",
      "The Average Recall for Training Phase: 0.8026315789473685\n",
      "The Average F1 for Training Phase: 0.8531468531468532\n",
      "Number of features selected: 5\n",
      "The Accuracy for Training Phase: 0.9144736842105263\n",
      "The Average Precision for Training Phase: 0.9565217391304348\n",
      "The Average Recall for Training Phase: 0.868421052631579\n",
      "The Average F1 for Training Phase: 0.9103448275862069\n",
      "Number of features selected: 6\n",
      "The Accuracy for Training Phase: 0.9144736842105263\n",
      "The Average Precision for Training Phase: 0.9436619718309859\n",
      "The Average Recall for Training Phase: 0.881578947368421\n",
      "The Average F1 for Training Phase: 0.9115646258503401\n",
      "Number of features selected: 7\n",
      "The Accuracy for Training Phase: 0.9210526315789473\n",
      "The Average Precision for Training Phase: 0.9444444444444444\n",
      "The Average Recall for Training Phase: 0.8947368421052632\n",
      "The Average F1 for Training Phase: 0.918918918918919\n",
      "Number of features selected: 8\n",
      "The Accuracy for Training Phase: 0.9407894736842105\n",
      "The Average Precision for Training Phase: 0.958904109589041\n",
      "The Average Recall for Training Phase: 0.9210526315789473\n",
      "The Average F1 for Training Phase: 0.9395973154362416\n",
      "Number of features selected: 9\n",
      "The Accuracy for Training Phase: 0.9342105263157895\n",
      "The Average Precision for Training Phase: 0.9459459459459459\n",
      "The Average Recall for Training Phase: 0.9210526315789473\n",
      "The Average F1 for Training Phase: 0.9333333333333332\n",
      "Number of features selected: 10\n",
      "The Accuracy for Training Phase: 0.9342105263157895\n",
      "The Average Precision for Training Phase: 0.9583333333333334\n",
      "The Average Recall for Training Phase: 0.9078947368421053\n",
      "The Average F1 for Training Phase: 0.9324324324324325\n",
      "Number of features selected: 11\n",
      "The Accuracy for Training Phase: 0.9473684210526315\n",
      "The Average Precision for Training Phase: 0.9722222222222222\n",
      "The Average Recall for Training Phase: 0.9210526315789473\n",
      "The Average F1 for Training Phase: 0.9459459459459458\n",
      "Number of features selected: 12\n",
      "The Accuracy for Training Phase: 0.9342105263157895\n",
      "The Average Precision for Training Phase: 0.9583333333333334\n",
      "The Average Recall for Training Phase: 0.9078947368421053\n",
      "The Average F1 for Training Phase: 0.9324324324324325\n",
      "Number of features selected: 13\n",
      "The Accuracy for Training Phase: 0.9473684210526315\n",
      "The Average Precision for Training Phase: 0.9722222222222222\n",
      "The Average Recall for Training Phase: 0.9210526315789473\n",
      "The Average F1 for Training Phase: 0.9459459459459458\n"
     ]
    }
   ],
   "source": [
    "for i in range(2, 14):\n",
    "    rf_rfe = RFE(rf_model, i)\n",
    "    fit = rf_rfe.fit(X_train_over, y_train_over)\n",
    "    X_train_selected = rf_rfe.transform(X_train_over)\n",
    "    X_test_selected = rf_rfe.transform(X_test)\n",
    "    rf_model.fit(X_train_selected,y_train_over)\n",
    "    preds_rf1 = rf_model.predict(X_train_selected)\n",
    "    print(\"Number of features selected:\", i)\n",
    "    print('The Accuracy for Training Phase:', accuracy_score(y_train_over, preds_rf1))\n",
    "    print('The Average Precision for Training Phase:', precision_score(y_train_over, preds_rf1))\n",
    "    print('The Average Recall for Training Phase:',recall_score(y_train_over, preds_rf1))\n",
    "    print('The Average F1 for Training Phase:',f1_score(y_train_over, preds_rf1))"
   ]
  },
  {
   "cell_type": "code",
   "execution_count": 28,
   "metadata": {
    "scrolled": true
   },
   "outputs": [
    {
     "name": "stdout",
     "output_type": "stream",
     "text": [
      "TRAINING METRICS\n",
      "The Accuracy for Training Phase: 0.9407894736842105\n",
      "The Precision for Training Phase: 0.958904109589041\n",
      "The Recall for Training Phase: 0.9210526315789473\n",
      "The F1 for Training Phase: 0.9395973154362416\n",
      "TESTING METRICS\n",
      "The Accuracy for Testing Phase: 0.75\n",
      "The Average Precision for Testing Phase: 0.5882352941176471\n",
      "The Average Recall for Testing Phase: 0.8333333333333334\n",
      "The Average F1 for Testing Phase: 0.6896551724137931\n"
     ]
    },
    {
     "data": {
      "text/html": [
       "<div>\n",
       "<style scoped>\n",
       "    .dataframe tbody tr th:only-of-type {\n",
       "        vertical-align: middle;\n",
       "    }\n",
       "\n",
       "    .dataframe tbody tr th {\n",
       "        vertical-align: top;\n",
       "    }\n",
       "\n",
       "    .dataframe thead th {\n",
       "        text-align: right;\n",
       "    }\n",
       "</style>\n",
       "<table border=\"1\" class=\"dataframe\">\n",
       "  <thead>\n",
       "    <tr style=\"text-align: right;\">\n",
       "      <th>col_0</th>\n",
       "      <th>0</th>\n",
       "      <th>1</th>\n",
       "    </tr>\n",
       "    <tr>\n",
       "      <th>row_0</th>\n",
       "      <th></th>\n",
       "      <th></th>\n",
       "    </tr>\n",
       "  </thead>\n",
       "  <tbody>\n",
       "    <tr>\n",
       "      <th>0</th>\n",
       "      <td>17</td>\n",
       "      <td>7</td>\n",
       "    </tr>\n",
       "    <tr>\n",
       "      <th>1</th>\n",
       "      <td>2</td>\n",
       "      <td>10</td>\n",
       "    </tr>\n",
       "  </tbody>\n",
       "</table>\n",
       "</div>"
      ],
      "text/plain": [
       "col_0   0   1\n",
       "row_0        \n",
       "0      17   7\n",
       "1       2  10"
      ]
     },
     "execution_count": 28,
     "metadata": {},
     "output_type": "execute_result"
    }
   ],
   "source": [
    "rf_rfe = RFE(rf_model, n_features_to_select =8)\n",
    "fit = rf_rfe.fit(X_train_over, y_train_over)\n",
    "X_test_selected = rf_rfe.transform(X_test)\n",
    "X_train_selected = rf_rfe.transform(X_train_over)\n",
    "X_selected = rf_rfe.transform(X)\n",
    "rf_model.fit(X_train_selected,y_train_over)\n",
    "\n",
    "preds_rf = rf_model.predict(X_test_selected)\n",
    "\n",
    "print('TRAINING METRICS')\n",
    "print('The Accuracy for Training Phase:', accuracy_score(y_train_over, rf_model.predict(X_train_selected)))\n",
    "print('The Precision for Training Phase:', precision_score(y_train_over, rf_model.predict(X_train_selected)))\n",
    "print('The Recall for Training Phase:',recall_score(y_train_over, rf_model.predict(X_train_selected)))\n",
    "print('The F1 for Training Phase:',f1_score(y_train_over, rf_model.predict(X_train_selected)))\n",
    "\n",
    "print('TESTING METRICS')\n",
    "print('The Accuracy for Testing Phase:', accuracy_score(y_test, preds_rf))\n",
    "print('The Average Precision for Testing Phase:', precision_score(y_test, preds_rf))\n",
    "print('The Average Recall for Testing Phase:',recall_score(y_test, preds_rf))\n",
    "print('The Average F1 for Testing Phase:',f1_score(y_test, preds_rf))\n",
    "pd.crosstab(y_test.values.ravel(),preds_rf)"
   ]
  },
  {
   "cell_type": "code",
   "execution_count": 29,
   "metadata": {},
   "outputs": [
    {
     "name": "stdout",
     "output_type": "stream",
     "text": [
      "TESTING METRICS\n",
      "The Average Accuracy for Testing Phase: 0.7888888888888889\n",
      "The Accuracy STD for Testing Phase: 0.028327886186626582\n",
      "The Average Precision for Testing Phase: 0.7748668400842313\n",
      "The Precision STD for Testing Phase: 0.02806584843914057\n",
      "The Average Recall for Testing Phase: 0.7364672364672366\n",
      "The Recall STD for Testing Phase: 0.058421927790341534\n",
      "The Average F1 for Testing Phase: 0.7547027196622883\n",
      "The F1 STD for Testing Phase: 0.04342514744592553\n",
      " \n"
     ]
    }
   ],
   "source": [
    "#For Generalization\n",
    "rf_rfe = RFE(rf_model, n_features_to_select = 8)\n",
    "fit = rf_rfe.fit(X_train_over, y_train_over)\n",
    "X_test_selected2 = rf_rfe.transform(X_test)\n",
    "X_train_selected2 = rf_rfe.transform(X_train_over)\n",
    "X_selected2 = rf_rfe.transform(X)\n",
    "rf_model.fit(X_train_selected2,y_train_over)\n",
    "scores2 = cross_validate(rf_model,X_selected2,y,cv=3,scoring=['accuracy','f1','precision', 'recall'], return_train_score=True)\n",
    "print('TESTING METRICS')\n",
    "print('The Average Accuracy for Testing Phase:',scores2['test_accuracy'].mean())\n",
    "print('The Accuracy STD for Testing Phase:',scores2['test_accuracy'].std())\n",
    "print('The Average Precision for Testing Phase:',scores2['test_precision'].mean())\n",
    "print('The Precision STD for Testing Phase:',scores2['test_precision'].std())\n",
    "print('The Average Recall for Testing Phase:',scores2['test_recall'].mean())\n",
    "print('The Recall STD for Testing Phase:',scores2['test_recall'].std())\n",
    "print('The Average F1 for Testing Phase:',scores2['test_f1'].mean())\n",
    "print('The F1 STD for Testing Phase:',scores2['test_f1'].std())\n",
    "print(\" \")"
   ]
  },
  {
   "cell_type": "markdown",
   "metadata": {},
   "source": [
    "## GradientBoostingClassifier"
   ]
  },
  {
   "cell_type": "code",
   "execution_count": 30,
   "metadata": {
    "scrolled": true
   },
   "outputs": [
    {
     "name": "stdout",
     "output_type": "stream",
     "text": [
      "GradientBoostingClassifier(learning_rate=0.001, max_depth=4,\n",
      "                           max_features='sqrt', min_samples_leaf=2,\n",
      "                           n_estimators=200, random_state=0)\n",
      "0.8094623655913977\n"
     ]
    }
   ],
   "source": [
    "\n",
    "from sklearn.ensemble import GradientBoostingClassifier\n",
    "gb_model = GradientBoostingClassifier(learning_rate=0.01, max_depth=4,\n",
    "                           max_features='sqrt', min_samples_leaf=10,\n",
    "                            random_state=0,n_estimators=200, loss = 'deviance')\n",
    "\n",
    "\n",
    "\n",
    "parameters = {'max_depth':[2,4],\n",
    "              'n_estimators':[40,50, 100, 200],\n",
    "              'max_features' : ['auto', 'sqrt'],\n",
    "              'min_samples_leaf' : [2,4,6],\n",
    "              'learning_rate': [1,0.1, 0.01,0.001]\n",
    "             }  \n",
    "\n",
    "gb_grid = RandomizedSearchCV(gb_model,parameters,cv=5)\n",
    "gb_grid.fit(X_train_over,y_train_over)\n",
    "print(gb_grid.best_estimator_)\n",
    "print(gb_grid.best_score_)\n"
   ]
  },
  {
   "cell_type": "code",
   "execution_count": 31,
   "metadata": {},
   "outputs": [
    {
     "name": "stdout",
     "output_type": "stream",
     "text": [
      "Feature Ranking: [4 1 5 1 1 7 6 2 1 3 1 1 1]\n"
     ]
    }
   ],
   "source": [
    "gb_rfe = RFE(gb_model, n_features_to_select = 7)\n",
    "fit = gb_rfe.fit(X_train_over, y_train_over)\n",
    "print(\"Feature Ranking: %s\" % (fit.ranking_))\n",
    "#'slope_of_peak_exercise_st_segment','thal','resting_blood_pressure','chest_pain_type','num_major_vessels','fasting_blood_sugar_gt_120_mg_per_dl','resting_ekg_results','serum_cholesterol_mg_per_dl','oldpeak_eq_st_depression','sex','age','max_heart_rate_achieved','exercise_induced_angina'\n"
   ]
  },
  {
   "cell_type": "code",
   "execution_count": 32,
   "metadata": {},
   "outputs": [
    {
     "name": "stdout",
     "output_type": "stream",
     "text": [
      "Number of features selected: 2\n",
      "The Accuracy for Training Phase: 0.756578947368421\n",
      "The Average Precision for Training Phase: 0.782608695652174\n",
      "The Average Recall for Training Phase: 0.7105263157894737\n",
      "The Average F1 for Training Phase: 0.7448275862068965\n",
      "Number of features selected: 3\n",
      "The Accuracy for Training Phase: 0.8289473684210527\n",
      "The Average Precision for Training Phase: 0.8472222222222222\n",
      "The Average Recall for Training Phase: 0.8026315789473685\n",
      "The Average F1 for Training Phase: 0.8243243243243243\n",
      "Number of features selected: 4\n",
      "The Accuracy for Training Phase: 0.8486842105263158\n",
      "The Average Precision for Training Phase: 0.8955223880597015\n",
      "The Average Recall for Training Phase: 0.7894736842105263\n",
      "The Average F1 for Training Phase: 0.8391608391608391\n",
      "Number of features selected: 5\n",
      "The Accuracy for Training Phase: 0.9144736842105263\n",
      "The Average Precision for Training Phase: 0.92\n",
      "The Average Recall for Training Phase: 0.9078947368421053\n",
      "The Average F1 for Training Phase: 0.913907284768212\n",
      "Number of features selected: 6\n",
      "The Accuracy for Training Phase: 0.9210526315789473\n",
      "The Average Precision for Training Phase: 0.9324324324324325\n",
      "The Average Recall for Training Phase: 0.9078947368421053\n",
      "The Average F1 for Training Phase: 0.92\n",
      "Number of features selected: 7\n",
      "The Accuracy for Training Phase: 0.9144736842105263\n",
      "The Average Precision for Training Phase: 0.9436619718309859\n",
      "The Average Recall for Training Phase: 0.881578947368421\n",
      "The Average F1 for Training Phase: 0.9115646258503401\n",
      "Number of features selected: 8\n",
      "The Accuracy for Training Phase: 0.9342105263157895\n",
      "The Average Precision for Training Phase: 0.9459459459459459\n",
      "The Average Recall for Training Phase: 0.9210526315789473\n",
      "The Average F1 for Training Phase: 0.9333333333333332\n",
      "Number of features selected: 9\n",
      "The Accuracy for Training Phase: 0.9342105263157895\n",
      "The Average Precision for Training Phase: 0.9342105263157895\n",
      "The Average Recall for Training Phase: 0.9342105263157895\n",
      "The Average F1 for Training Phase: 0.9342105263157895\n",
      "Number of features selected: 10\n",
      "The Accuracy for Training Phase: 0.9342105263157895\n",
      "The Average Precision for Training Phase: 0.9459459459459459\n",
      "The Average Recall for Training Phase: 0.9210526315789473\n",
      "The Average F1 for Training Phase: 0.9333333333333332\n",
      "Number of features selected: 11\n",
      "The Accuracy for Training Phase: 0.9342105263157895\n",
      "The Average Precision for Training Phase: 0.9459459459459459\n",
      "The Average Recall for Training Phase: 0.9210526315789473\n",
      "The Average F1 for Training Phase: 0.9333333333333332\n",
      "Number of features selected: 12\n",
      "The Accuracy for Training Phase: 0.9342105263157895\n",
      "The Average Precision for Training Phase: 0.9583333333333334\n",
      "The Average Recall for Training Phase: 0.9078947368421053\n",
      "The Average F1 for Training Phase: 0.9324324324324325\n",
      "Number of features selected: 13\n",
      "The Accuracy for Training Phase: 0.9342105263157895\n",
      "The Average Precision for Training Phase: 0.9583333333333334\n",
      "The Average Recall for Training Phase: 0.9078947368421053\n",
      "The Average F1 for Training Phase: 0.9324324324324325\n"
     ]
    }
   ],
   "source": [
    "for i in range(2, 14):\n",
    "    gb_rfe = RFE(gb_model, i)\n",
    "    fit = gb_rfe.fit(X_train_over, y_train_over)\n",
    "    X_train_selected = gb_rfe.transform(X_train_over)\n",
    "    X_test_selected = gb_rfe.transform(X_test)\n",
    "    gb_model.fit(X_train_selected,y_train_over)\n",
    "    preds_gb = gb_model.predict(X_train_selected)\n",
    "    print(\"Number of features selected:\", i)\n",
    "    print('The Accuracy for Training Phase:', accuracy_score(y_train_over, preds_gb))\n",
    "    print('The Average Precision for Training Phase:', precision_score(y_train_over, preds_gb))\n",
    "    print('The Average Recall for Training Phase:',recall_score(y_train_over, preds_gb))\n",
    "    print('The Average F1 for Training Phase:',f1_score(y_train_over, preds_gb))"
   ]
  },
  {
   "cell_type": "code",
   "execution_count": 33,
   "metadata": {},
   "outputs": [
    {
     "name": "stdout",
     "output_type": "stream",
     "text": [
      "TRAINING METRICS\n",
      "The Accuracy for Training Phase: 0.9144736842105263\n",
      "The Precision for Training Phase: 0.9436619718309859\n",
      "The Recall for Training Phase: 0.881578947368421\n",
      "The F1 for Training Phase: 0.9115646258503401\n",
      "TESTING METRICS\n",
      "The Accuracy for Testing Phase: 0.75\n",
      "The Average Precision for Testing Phase: 0.5882352941176471\n",
      "The Average Recall for Testing Phase: 0.8333333333333334\n",
      "The Average F1 for Testing Phase: 0.6896551724137931\n"
     ]
    },
    {
     "data": {
      "text/html": [
       "<div>\n",
       "<style scoped>\n",
       "    .dataframe tbody tr th:only-of-type {\n",
       "        vertical-align: middle;\n",
       "    }\n",
       "\n",
       "    .dataframe tbody tr th {\n",
       "        vertical-align: top;\n",
       "    }\n",
       "\n",
       "    .dataframe thead th {\n",
       "        text-align: right;\n",
       "    }\n",
       "</style>\n",
       "<table border=\"1\" class=\"dataframe\">\n",
       "  <thead>\n",
       "    <tr style=\"text-align: right;\">\n",
       "      <th>col_0</th>\n",
       "      <th>0</th>\n",
       "      <th>1</th>\n",
       "    </tr>\n",
       "    <tr>\n",
       "      <th>row_0</th>\n",
       "      <th></th>\n",
       "      <th></th>\n",
       "    </tr>\n",
       "  </thead>\n",
       "  <tbody>\n",
       "    <tr>\n",
       "      <th>0</th>\n",
       "      <td>17</td>\n",
       "      <td>7</td>\n",
       "    </tr>\n",
       "    <tr>\n",
       "      <th>1</th>\n",
       "      <td>2</td>\n",
       "      <td>10</td>\n",
       "    </tr>\n",
       "  </tbody>\n",
       "</table>\n",
       "</div>"
      ],
      "text/plain": [
       "col_0   0   1\n",
       "row_0        \n",
       "0      17   7\n",
       "1       2  10"
      ]
     },
     "execution_count": 33,
     "metadata": {},
     "output_type": "execute_result"
    }
   ],
   "source": [
    "gb_rfe = RFE(gb_model, n_features_to_select = 7)\n",
    "fit = gb_rfe.fit(X_train_over, y_train_over)\n",
    "X_test_selected = gb_rfe.transform(X_test)\n",
    "X_train_selected = gb_rfe.transform(X_train_over)\n",
    "X_selected = gb_rfe.transform(X)\n",
    "\n",
    "gb_model.fit(X_train_selected,y_train_over)\n",
    "preds_gb = gb_model.predict(X_test_selected)\n",
    "\n",
    "print('TRAINING METRICS')\n",
    "print('The Accuracy for Training Phase:', accuracy_score(y_train_over, gb_model.predict(X_train_selected)))\n",
    "print('The Precision for Training Phase:', precision_score(y_train_over, gb_model.predict(X_train_selected)))\n",
    "print('The Recall for Training Phase:',recall_score(y_train_over, gb_model.predict(X_train_selected)))\n",
    "print('The F1 for Training Phase:',f1_score(y_train_over, gb_model.predict(X_train_selected)))\n",
    "\n",
    "print('TESTING METRICS')\n",
    "print('The Accuracy for Testing Phase:', accuracy_score(y_test, preds_gb))\n",
    "print('The Average Precision for Testing Phase:', precision_score(y_test, preds_gb))\n",
    "print('The Average Recall for Testing Phase:',recall_score(y_test, preds_gb))\n",
    "print('The Average F1 for Testing Phase:',f1_score(y_test, preds_gb))\n",
    "pd.crosstab(y_test.values.ravel(),preds_gb)"
   ]
  },
  {
   "cell_type": "code",
   "execution_count": 34,
   "metadata": {},
   "outputs": [
    {
     "name": "stdout",
     "output_type": "stream",
     "text": [
      "TESTING METRICS\n",
      "The Average Accuracy for Testing Phase: 0.8055555555555557\n",
      "The Accuracy STD for Testing Phase: 0.03424674446093873\n",
      "The Average Precision for Testing Phase: 0.8196969696969697\n",
      "The Precision STD for Testing Phase: 0.0664251824750999\n",
      "The Average Recall for Testing Phase: 0.7245963912630579\n",
      "The Recall STD for Testing Phase: 0.022831557987030012\n",
      "The Average F1 for Testing Phase: 0.7685190999476713\n",
      "The F1 STD for Testing Phase: 0.03932836109666343\n",
      " \n"
     ]
    }
   ],
   "source": [
    "gb_rfe = RFE(gb_model, n_features_to_select = 7)\n",
    "fit = gb_rfe.fit(X_train_over, y_train_over)\n",
    "X_test_selected3 = gb_rfe.transform(X_test)\n",
    "X_train_selected3 = gb_rfe.transform(X_train_over)\n",
    "X_selected3 = gb_rfe.transform(X)\n",
    "\n",
    "gb_model.fit(X_train_selected3,y_train_over)\n",
    "preds_gb = gb_model.predict(X_test_selected3)\n",
    "scores3 = cross_validate(gb_model,X_selected3,y,cv=3,scoring=['accuracy','f1','precision', 'recall'],return_train_score= True)\n",
    "print('TESTING METRICS')\n",
    "print('The Average Accuracy for Testing Phase:',scores3['test_accuracy'].mean())\n",
    "print('The Accuracy STD for Testing Phase:',scores3['test_accuracy'].std())\n",
    "print('The Average Precision for Testing Phase:',scores3['test_precision'].mean())\n",
    "print('The Precision STD for Testing Phase:',scores3['test_precision'].std())\n",
    "print('The Average Recall for Testing Phase:',scores3['test_recall'].mean())\n",
    "print('The Recall STD for Testing Phase:',scores3['test_recall'].std())\n",
    "print('The Average F1 for Testing Phase:',scores3['test_f1'].mean())\n",
    "print('The F1 STD for Testing Phase:',scores3['test_f1'].std())\n",
    "print(\" \")"
   ]
  },
  {
   "cell_type": "markdown",
   "metadata": {},
   "source": [
    "## XGBClassifier"
   ]
  },
  {
   "cell_type": "code",
   "execution_count": 35,
   "metadata": {},
   "outputs": [
    {
     "name": "stdout",
     "output_type": "stream",
     "text": [
      "XGBClassifier(base_score=0.5, booster='gbtree', colsample_bylevel=1,\n",
      "              colsample_bynode=1, colsample_bytree=0.5, eval_metric='logloss',\n",
      "              gamma=0, gpu_id=-1, importance_type='gain',\n",
      "              interaction_constraints='', learning_rate=0.1, max_delta_step=0,\n",
      "              max_depth=2, min_child_weight=3, missing=nan,\n",
      "              monotone_constraints='()', n_estimators=30, n_jobs=16,\n",
      "              num_parallel_tree=1, random_state=0, reg_alpha=0.5,\n",
      "              reg_lambda=0.8, scale_pos_weight=1, subsample=0.7,\n",
      "              tree_method='exact', validate_parameters=1, verbosity=None)\n",
      "0.8027956989247311\n"
     ]
    }
   ],
   "source": [
    "import xgboost as xgb\n",
    "from xgboost import XGBClassifier\n",
    "xgb_model = XGBClassifier(base_score=0.5, booster='gbtree', colsample_bylevel=1,\n",
    "              colsample_bynode=1, colsample_bytree=0.7, eval_metric='logloss',\n",
    "              gamma=0, gpu_id=-1, importance_type='gain',\n",
    "              interaction_constraints='', learning_rate=1, max_delta_step=0,\n",
    "              max_depth=2, min_child_weight=3, \n",
    "              monotone_constraints='()', n_estimators=200, n_jobs=16,\n",
    "              num_parallel_tree=1, random_state=0, reg_alpha=.6, reg_lambda=.6,\n",
    "              scale_pos_weight=1, subsample=0.7, tree_method='exact',\n",
    "              validate_parameters=1, verbosity=None)\n",
    "\n",
    "\n",
    "parameters = {'learning_rate': [0.01, 0.1],\n",
    "              'max_depth':[2,4,6,8],\n",
    "              'min_child_weight': [1, 3, 5],\n",
    "              'subsample': [0.5, 0.7],\n",
    "              'colsample_bytree': [0.5, 0.7],\n",
    "              'n_estimators' : [30,40,50,100,200],\n",
    "              'reg_alpha':[0.5,0.6,0.7,0.8,1],\n",
    "              'reg_lambda':[0.5,0.6,0.7,0.8,1],\n",
    "              'objective': ['binary:logistic']\n",
    "             }  \n",
    "\n",
    "xgb_grid = RandomizedSearchCV(xgb_model,parameters,cv=5)\n",
    "xgb_grid.fit(X_train_over,y_train_over)\n",
    "print(xgb_grid.best_estimator_)\n",
    "print(xgb_grid.best_score_)\n",
    "\n",
    "\n"
   ]
  },
  {
   "cell_type": "code",
   "execution_count": 36,
   "metadata": {},
   "outputs": [
    {
     "name": "stdout",
     "output_type": "stream",
     "text": [
      "Feature Ranking: [6 1 3 1 1 9 7 4 5 1 1 2 8]\n"
     ]
    }
   ],
   "source": [
    "xgb_rfe = RFE(xgb_model, n_features_to_select = 5)\n",
    "fit = xgb_rfe.fit(X_train_over, y_train_over)\n",
    "print(\"Feature Ranking: %s\" % (fit.ranking_))\n",
    "#'slope_of_peak_exercise_st_segment','thal','resting_blood_pressure','chest_pain_type','num_major_vessels','fasting_blood_sugar_gt_120_mg_per_dl','resting_ekg_results','serum_cholesterol_mg_per_dl','oldpeak_eq_st_depression','sex','age','max_heart_rate_achieved','exercise_induced_angina'\n"
   ]
  },
  {
   "cell_type": "code",
   "execution_count": 37,
   "metadata": {},
   "outputs": [
    {
     "name": "stdout",
     "output_type": "stream",
     "text": [
      "Number of features selected: 2\n",
      "The Accuracy for Testing Phase: 0.756578947368421\n",
      "The Average Precision for Testing Phase: 0.782608695652174\n",
      "The Average Recall for Testing Phase: 0.7105263157894737\n",
      "The Average F1 for Testing Phase: 0.7448275862068965\n",
      "Number of features selected: 3\n",
      "The Accuracy for Testing Phase: 0.8289473684210527\n",
      "The Average Precision for Testing Phase: 0.8125\n",
      "The Average Recall for Testing Phase: 0.8552631578947368\n",
      "The Average F1 for Testing Phase: 0.8333333333333334\n",
      "Number of features selected: 4\n",
      "The Accuracy for Testing Phase: 0.8552631578947368\n",
      "The Average Precision for Testing Phase: 0.8461538461538461\n",
      "The Average Recall for Testing Phase: 0.868421052631579\n",
      "The Average F1 for Testing Phase: 0.8571428571428572\n",
      "Number of features selected: 5\n",
      "The Accuracy for Testing Phase: 0.9210526315789473\n",
      "The Average Precision for Testing Phase: 0.9\n",
      "The Average Recall for Testing Phase: 0.9473684210526315\n",
      "The Average F1 for Testing Phase: 0.9230769230769231\n",
      "Number of features selected: 6\n",
      "The Accuracy for Testing Phase: 0.9276315789473685\n",
      "The Average Precision for Testing Phase: 0.9333333333333333\n",
      "The Average Recall for Testing Phase: 0.9210526315789473\n",
      "The Average F1 for Testing Phase: 0.9271523178807947\n",
      "Number of features selected: 7\n",
      "The Accuracy for Testing Phase: 0.9276315789473685\n",
      "The Average Precision for Testing Phase: 0.922077922077922\n",
      "The Average Recall for Testing Phase: 0.9342105263157895\n",
      "The Average F1 for Testing Phase: 0.9281045751633986\n",
      "Number of features selected: 8\n",
      "The Accuracy for Testing Phase: 0.9605263157894737\n",
      "The Average Precision for Testing Phase: 0.9605263157894737\n",
      "The Average Recall for Testing Phase: 0.9605263157894737\n",
      "The Average F1 for Testing Phase: 0.9605263157894737\n",
      "Number of features selected: 9\n",
      "The Accuracy for Testing Phase: 0.9736842105263158\n",
      "The Average Precision for Testing Phase: 0.9736842105263158\n",
      "The Average Recall for Testing Phase: 0.9736842105263158\n",
      "The Average F1 for Testing Phase: 0.9736842105263158\n",
      "Number of features selected: 10\n",
      "The Accuracy for Testing Phase: 0.9539473684210527\n",
      "The Average Precision for Testing Phase: 0.9726027397260274\n",
      "The Average Recall for Testing Phase: 0.9342105263157895\n",
      "The Average F1 for Testing Phase: 0.9530201342281879\n",
      "Number of features selected: 11\n",
      "The Accuracy for Testing Phase: 0.9671052631578947\n",
      "The Average Precision for Testing Phase: 0.961038961038961\n",
      "The Average Recall for Testing Phase: 0.9736842105263158\n",
      "The Average F1 for Testing Phase: 0.9673202614379085\n",
      "Number of features selected: 12\n",
      "The Accuracy for Testing Phase: 0.9802631578947368\n",
      "The Average Precision for Testing Phase: 0.9866666666666667\n",
      "The Average Recall for Testing Phase: 0.9736842105263158\n",
      "The Average F1 for Testing Phase: 0.9801324503311258\n",
      "Number of features selected: 13\n",
      "The Accuracy for Testing Phase: 0.9736842105263158\n",
      "The Average Precision for Testing Phase: 0.9736842105263158\n",
      "The Average Recall for Testing Phase: 0.9736842105263158\n",
      "The Average F1 for Testing Phase: 0.9736842105263158\n"
     ]
    }
   ],
   "source": [
    "for i in range(2, 14):\n",
    "    xgb_rfe = RFE(xgb_model, i)\n",
    "    fit = xgb_rfe.fit(X_train_over, y_train_over)\n",
    "    X_train_selected = xgb_rfe.transform(X_train_over)\n",
    "    X_test_selected = xgb_rfe.transform(X_test)\n",
    "    xgb_model.fit(X_train_selected,y_train_over)\n",
    "    preds_xgb = xgb_model.predict(X_train_selected)\n",
    "    print(\"Number of features selected:\", i)\n",
    "    print('The Accuracy for Testing Phase:', accuracy_score(y_train_over, preds_xgb))\n",
    "    print('The Average Precision for Testing Phase:', precision_score(y_train_over, preds_xgb))\n",
    "    print('The Average Recall for Testing Phase:',recall_score(y_train_over, preds_xgb))\n",
    "    print('The Average F1 for Testing Phase:',f1_score(y_train_over, preds_xgb))"
   ]
  },
  {
   "cell_type": "code",
   "execution_count": 38,
   "metadata": {},
   "outputs": [
    {
     "name": "stdout",
     "output_type": "stream",
     "text": [
      "TRAINING METRICS\n",
      "The Accuracy for Training Phase: 0.9210526315789473\n",
      "The Precision for Training Phase: 0.9\n",
      "The Recall for Training Phase: 0.9473684210526315\n",
      "The F1 for Training Phase: 0.9230769230769231\n",
      "TESTING METRICS\n",
      "The Accuracy for Testing Phase: 0.7777777777777778\n",
      "The Average Precision for Testing Phase: 0.6111111111111112\n",
      "The Average Recall for Testing Phase: 0.9166666666666666\n",
      "The Average F1 for Testing Phase: 0.7333333333333334\n"
     ]
    },
    {
     "data": {
      "text/html": [
       "<div>\n",
       "<style scoped>\n",
       "    .dataframe tbody tr th:only-of-type {\n",
       "        vertical-align: middle;\n",
       "    }\n",
       "\n",
       "    .dataframe tbody tr th {\n",
       "        vertical-align: top;\n",
       "    }\n",
       "\n",
       "    .dataframe thead th {\n",
       "        text-align: right;\n",
       "    }\n",
       "</style>\n",
       "<table border=\"1\" class=\"dataframe\">\n",
       "  <thead>\n",
       "    <tr style=\"text-align: right;\">\n",
       "      <th>col_0</th>\n",
       "      <th>0</th>\n",
       "      <th>1</th>\n",
       "    </tr>\n",
       "    <tr>\n",
       "      <th>row_0</th>\n",
       "      <th></th>\n",
       "      <th></th>\n",
       "    </tr>\n",
       "  </thead>\n",
       "  <tbody>\n",
       "    <tr>\n",
       "      <th>0</th>\n",
       "      <td>17</td>\n",
       "      <td>7</td>\n",
       "    </tr>\n",
       "    <tr>\n",
       "      <th>1</th>\n",
       "      <td>1</td>\n",
       "      <td>11</td>\n",
       "    </tr>\n",
       "  </tbody>\n",
       "</table>\n",
       "</div>"
      ],
      "text/plain": [
       "col_0   0   1\n",
       "row_0        \n",
       "0      17   7\n",
       "1       1  11"
      ]
     },
     "execution_count": 38,
     "metadata": {},
     "output_type": "execute_result"
    }
   ],
   "source": [
    "xgb_rfe = RFE(xgb_model, n_features_to_select = 5)\n",
    "fit = xgb_rfe.fit(X_train_over, y_train_over)\n",
    "X_test_selected1 = xgb_rfe.transform(X_test)\n",
    "X_train_selected1 = xgb_rfe.transform(X_train_over)\n",
    "X_selected = xgb_rfe.transform(X)\n",
    "\n",
    "xgb_model.fit(X_train_selected1,y_train_over)\n",
    "\n",
    "preds_xgb = xgb_model.predict(X_test_selected1)\n",
    "\n",
    "print('TRAINING METRICS')\n",
    "print('The Accuracy for Training Phase:', accuracy_score(y_train_over, xgb_model.predict(X_train_selected1)))\n",
    "print('The Precision for Training Phase:', precision_score(y_train_over, xgb_model.predict(X_train_selected1)))\n",
    "print('The Recall for Training Phase:',recall_score(y_train_over, xgb_model.predict(X_train_selected1)))\n",
    "print('The F1 for Training Phase:',f1_score(y_train_over, xgb_model.predict(X_train_selected1)))\n",
    "\n",
    "print('TESTING METRICS')\n",
    "print('The Accuracy for Testing Phase:', accuracy_score(y_test, preds_xgb))\n",
    "print('The Average Precision for Testing Phase:', precision_score(y_test, preds_xgb))\n",
    "print('The Average Recall for Testing Phase:',recall_score(y_test, preds_xgb))\n",
    "print('The Average F1 for Testing Phase:',f1_score(y_test, preds_xgb))\n",
    "pd.crosstab(y_test.values.ravel(),preds_xgb)"
   ]
  },
  {
   "cell_type": "code",
   "execution_count": 39,
   "metadata": {},
   "outputs": [
    {
     "name": "stdout",
     "output_type": "stream",
     "text": [
      "TESTING METRICS\n",
      "The Average Accuracy for Testing Phase: 0.8055555555555555\n",
      "The Accuracy STD for Testing Phase: 0.04374448818895451\n",
      "The Average Precision for Testing Phase: 0.7671236942070275\n",
      "The Precision STD for Testing Phase: 0.06011245572805279\n",
      "The Average Recall for Testing Phase: 0.8114909781576447\n",
      "The Recall STD for Testing Phase: 0.05707889496757509\n",
      "The Average F1 for Testing Phase: 0.7874273665234117\n",
      "The F1 STD for Testing Phase: 0.04973588524289483\n",
      " \n"
     ]
    }
   ],
   "source": [
    "xgb_rfe = RFE(xgb_model, n_features_to_select = 5)\n",
    "fit = xgb_rfe.fit(X_train_over, y_train_over)\n",
    "X_test_selected4 = xgb_rfe.transform(X_test)\n",
    "X_train_selected4 = xgb_rfe.transform(X_train_over)\n",
    "X_selected4 = xgb_rfe.transform(X)\n",
    "scores4 = cross_validate(xgb_model,X_selected4,y,cv=3,scoring=['accuracy','f1','precision', 'recall'], return_train_score=True)\n",
    "print('TESTING METRICS')\n",
    "print('The Average Accuracy for Testing Phase:',scores4['test_accuracy'].mean())\n",
    "print('The Accuracy STD for Testing Phase:',scores4['test_accuracy'].std())\n",
    "print('The Average Precision for Testing Phase:',scores4['test_precision'].mean())\n",
    "print('The Precision STD for Testing Phase:',scores4['test_precision'].std())\n",
    "print('The Average Recall for Testing Phase:',scores4['test_recall'].mean())\n",
    "print('The Recall STD for Testing Phase:',scores4['test_recall'].std())\n",
    "print('The Average F1 for Testing Phase:',scores4['test_f1'].mean())\n",
    "print('The F1 STD for Testing Phase:',scores4['test_f1'].std())\n",
    "print(\" \")"
   ]
  },
  {
   "cell_type": "markdown",
   "metadata": {},
   "source": [
    "### Stacking of Different Models\n"
   ]
  },
  {
   "cell_type": "code",
   "execution_count": 40,
   "metadata": {},
   "outputs": [
    {
     "name": "stdout",
     "output_type": "stream",
     "text": [
      "Requirement already satisfied: mlxtend in c:\\users\\63949\\anaconda3\\lib\\site-packages (0.19.0)\n",
      "Requirement already satisfied: scikit-learn>=0.20.3 in c:\\users\\63949\\anaconda3\\lib\\site-packages (from mlxtend) (0.24.1)\n",
      "Requirement already satisfied: scipy>=1.2.1 in c:\\users\\63949\\anaconda3\\lib\\site-packages (from mlxtend) (1.4.1)\n",
      "Requirement already satisfied: joblib>=0.13.2 in c:\\users\\63949\\anaconda3\\lib\\site-packages (from mlxtend) (1.0.1)\n",
      "Requirement already satisfied: numpy>=1.16.2 in c:\\users\\63949\\anaconda3\\lib\\site-packages (from mlxtend) (1.19.5)\n",
      "Requirement already satisfied: setuptools in c:\\users\\63949\\anaconda3\\lib\\site-packages (from mlxtend) (52.0.0.post20210125)\n",
      "Requirement already satisfied: pandas>=0.24.2 in c:\\users\\63949\\anaconda3\\lib\\site-packages (from mlxtend) (1.2.4)\n",
      "Requirement already satisfied: matplotlib>=3.0.0 in c:\\users\\63949\\anaconda3\\lib\\site-packages (from mlxtend) (3.3.4)\n",
      "Requirement already satisfied: python-dateutil>=2.1 in c:\\users\\63949\\anaconda3\\lib\\site-packages (from matplotlib>=3.0.0->mlxtend) (2.8.1)\n",
      "Requirement already satisfied: cycler>=0.10 in c:\\users\\63949\\anaconda3\\lib\\site-packages (from matplotlib>=3.0.0->mlxtend) (0.10.0)\n",
      "Requirement already satisfied: kiwisolver>=1.0.1 in c:\\users\\63949\\anaconda3\\lib\\site-packages (from matplotlib>=3.0.0->mlxtend) (1.3.1)\n",
      "Requirement already satisfied: pillow>=6.2.0 in c:\\users\\63949\\anaconda3\\lib\\site-packages (from matplotlib>=3.0.0->mlxtend) (8.2.0)\n",
      "Requirement already satisfied: pyparsing!=2.0.4,!=2.1.2,!=2.1.6,>=2.0.3 in c:\\users\\63949\\anaconda3\\lib\\site-packages (from matplotlib>=3.0.0->mlxtend) (2.4.7)\n",
      "Requirement already satisfied: six in c:\\users\\63949\\anaconda3\\lib\\site-packages (from cycler>=0.10->matplotlib>=3.0.0->mlxtend) (1.15.0)\n",
      "Requirement already satisfied: pytz>=2017.3 in c:\\users\\63949\\anaconda3\\lib\\site-packages (from pandas>=0.24.2->mlxtend) (2021.1)\n",
      "Requirement already satisfied: threadpoolctl>=2.0.0 in c:\\users\\63949\\anaconda3\\lib\\site-packages (from scikit-learn>=0.20.3->mlxtend) (2.1.0)\n",
      "Note: you may need to restart the kernel to use updated packages.\n"
     ]
    }
   ],
   "source": [
    "pip install mlxtend"
   ]
  },
  {
   "cell_type": "code",
   "execution_count": 41,
   "metadata": {},
   "outputs": [],
   "source": [
    "from mlxtend.classifier import StackingClassifier\n",
    "\n",
    "stack_model = StackingClassifier(\n",
    "    classifiers=[\n",
    "        lr_model,\n",
    "        rf_model\n",
    "    ],\n",
    "    use_probas=True,\n",
    "    meta_classifier=lr_model,average_probas=True\n",
    ")\n"
   ]
  },
  {
   "cell_type": "markdown",
   "metadata": {},
   "source": [
    "### Purpose: Checking the features for each model created\n",
    "* X_train_selected1 - Logistic Regression \n",
    "* X_train_selected2 - Random Forest\n",
    "* X_train_selected3 - Gradient Boosting\n",
    "* X_train_selected4 - XGB"
   ]
  },
  {
   "cell_type": "code",
   "execution_count": 42,
   "metadata": {},
   "outputs": [
    {
     "name": "stdout",
     "output_type": "stream",
     "text": [
      "(152, 5)\n",
      "(152, 8)\n",
      "(152, 7)\n",
      "(152, 5)\n"
     ]
    }
   ],
   "source": [
    "print(X_train_selected1.shape)\n",
    "print(X_train_selected2.shape)\n",
    "print(X_train_selected3.shape)\n",
    "print(X_train_selected4.shape)"
   ]
  },
  {
   "cell_type": "markdown",
   "metadata": {},
   "source": [
    "### The features of Gradient Boosting works the best in training the Stacking Classifier"
   ]
  },
  {
   "cell_type": "code",
   "execution_count": 43,
   "metadata": {
    "scrolled": true
   },
   "outputs": [
    {
     "name": "stdout",
     "output_type": "stream",
     "text": [
      "TRAINING METRICS\n",
      "The Accuracy for Training Phase: 0.8881578947368421\n",
      "The Precision for Training Phase: 0.9041095890410958\n",
      "The Recall for Training Phase: 0.868421052631579\n",
      "The F1 for Training Phase: 0.8859060402684564\n",
      "TESTING METRICS\n",
      "The Accuracy for Testing Phase: 0.8611111111111112\n",
      "The Average Precision for Testing Phase: 0.7333333333333333\n",
      "The Average Recall for Testing Phase: 0.9166666666666666\n",
      "The Average F1 for Testing Phase: 0.8148148148148148\n"
     ]
    },
    {
     "data": {
      "text/html": [
       "<div>\n",
       "<style scoped>\n",
       "    .dataframe tbody tr th:only-of-type {\n",
       "        vertical-align: middle;\n",
       "    }\n",
       "\n",
       "    .dataframe tbody tr th {\n",
       "        vertical-align: top;\n",
       "    }\n",
       "\n",
       "    .dataframe thead th {\n",
       "        text-align: right;\n",
       "    }\n",
       "</style>\n",
       "<table border=\"1\" class=\"dataframe\">\n",
       "  <thead>\n",
       "    <tr style=\"text-align: right;\">\n",
       "      <th>col_0</th>\n",
       "      <th>0</th>\n",
       "      <th>1</th>\n",
       "    </tr>\n",
       "    <tr>\n",
       "      <th>row_0</th>\n",
       "      <th></th>\n",
       "      <th></th>\n",
       "    </tr>\n",
       "  </thead>\n",
       "  <tbody>\n",
       "    <tr>\n",
       "      <th>0</th>\n",
       "      <td>20</td>\n",
       "      <td>4</td>\n",
       "    </tr>\n",
       "    <tr>\n",
       "      <th>1</th>\n",
       "      <td>1</td>\n",
       "      <td>11</td>\n",
       "    </tr>\n",
       "  </tbody>\n",
       "</table>\n",
       "</div>"
      ],
      "text/plain": [
       "col_0   0   1\n",
       "row_0        \n",
       "0      20   4\n",
       "1       1  11"
      ]
     },
     "execution_count": 43,
     "metadata": {},
     "output_type": "execute_result"
    }
   ],
   "source": [
    "# model set 3 is best\n",
    "stack_model.fit(X_train_selected3,y_train_over)\n",
    "\n",
    "preds_stack = stack_model.predict(X_test_selected3)\n",
    "\n",
    "print('TRAINING METRICS')\n",
    "print('The Accuracy for Training Phase:', accuracy_score(y_train_over, stack_model.predict(X_train_selected3)))\n",
    "print('The Precision for Training Phase:', precision_score(y_train_over, stack_model.predict(X_train_selected3)))\n",
    "print('The Recall for Training Phase:',recall_score(y_train_over, stack_model.predict(X_train_selected3)))\n",
    "print('The F1 for Training Phase:',f1_score(y_train_over, stack_model.predict(X_train_selected3)))\n",
    "\n",
    "print('TESTING METRICS')\n",
    "print('The Accuracy for Testing Phase:', accuracy_score(y_test, preds_stack))\n",
    "print('The Average Precision for Testing Phase:', precision_score(y_test, preds_stack))\n",
    "print('The Average Recall for Testing Phase:',recall_score(y_test, preds_stack))\n",
    "print('The Average F1 for Testing Phase:',f1_score(y_test, preds_stack))\n",
    "pd.crosstab(y_test.values.ravel(),preds_stack)"
   ]
  },
  {
   "cell_type": "code",
   "execution_count": 44,
   "metadata": {},
   "outputs": [
    {
     "name": "stdout",
     "output_type": "stream",
     "text": [
      "TESTING METRICS\n",
      "The Average Accuracy for Testing Phase: 0.8277777777777778\n",
      "The Accuracy STD for Testing Phase: 0.02078698548207743\n",
      "The Average Precision for Testing Phase: 0.8648550724637681\n",
      "The Precision STD for Testing Phase: 0.010735893036252945\n",
      "The Average Recall for Testing Phase: 0.7241215574548908\n",
      "The Recall STD for Testing Phase: 0.051941696753179396\n",
      "The Average F1 for Testing Phase: 0.7875532821824383\n",
      "The F1 STD for Testing Phase: 0.03556203422404901\n",
      " \n"
     ]
    }
   ],
   "source": [
    "scores5 = cross_validate(stack_model,X_selected3,y,cv=3,scoring=['accuracy','f1','precision', 'recall'], return_train_score=True)\n",
    "print('TESTING METRICS')\n",
    "print('The Average Accuracy for Testing Phase:',scores5['test_accuracy'].mean())\n",
    "print('The Accuracy STD for Testing Phase:',scores5['test_accuracy'].std())\n",
    "print('The Average Precision for Testing Phase:',scores5['test_precision'].mean())\n",
    "print('The Precision STD for Testing Phase:',scores5['test_precision'].std())\n",
    "print('The Average Recall for Testing Phase:',scores5['test_recall'].mean())\n",
    "print('The Recall STD for Testing Phase:',scores5['test_recall'].std())\n",
    "print('The Average F1 for Testing Phase:',scores5['test_f1'].mean())\n",
    "print('The F1 STD for Testing Phase:',scores5['test_f1'].std())\n",
    "print(\" \")"
   ]
  },
  {
   "cell_type": "code",
   "execution_count": 45,
   "metadata": {},
   "outputs": [
    {
     "name": "stdout",
     "output_type": "stream",
     "text": [
      "TRAINING METRICS\n",
      "The Average Accuracy for Training Phase: 0.8916666666666666\n",
      "The Accuracy STD for Training Phase: 0.024532669073132923\n",
      "The Average Precision for Training Phase: 0.9483156028368794\n",
      "The Precision STD for Training Phase: 0.008229892173954041\n",
      "The Average Recall for Training Phase: 0.79979035639413\n",
      "The Recall STD for Training Phase: 0.0589057497619586\n",
      "The Average F1 for Training Phase: 0.8665190807505798\n",
      "The F1 STD for Training Phase: 0.03560725854933353\n",
      " \n"
     ]
    }
   ],
   "source": [
    "print('TRAINING METRICS')\n",
    "print('The Average Accuracy for Training Phase:',scores5['train_accuracy'].mean())\n",
    "print('The Accuracy STD for Training Phase:',scores5['train_accuracy'].std())\n",
    "print('The Average Precision for Training Phase:',scores5['train_precision'].mean())\n",
    "print('The Precision STD for Training Phase:',scores5['train_precision'].std())\n",
    "print('The Average Recall for Training Phase:',scores5['train_recall'].mean())\n",
    "print('The Recall STD for Training Phase:',scores5['train_recall'].std())\n",
    "print('The Average F1 for Training Phase:',scores5['train_f1'].mean())\n",
    "print('The F1 STD for Training Phase:',scores5['train_f1'].std())\n",
    "print(\" \")"
   ]
  },
  {
   "cell_type": "markdown",
   "metadata": {},
   "source": [
    "## Part 2 (Without Outliers)"
   ]
  },
  {
   "cell_type": "code",
   "execution_count": 46,
   "metadata": {
    "scrolled": true
   },
   "outputs": [
    {
     "data": {
      "text/html": [
       "<div>\n",
       "<style scoped>\n",
       "    .dataframe tbody tr th:only-of-type {\n",
       "        vertical-align: middle;\n",
       "    }\n",
       "\n",
       "    .dataframe tbody tr th {\n",
       "        vertical-align: top;\n",
       "    }\n",
       "\n",
       "    .dataframe thead th {\n",
       "        text-align: right;\n",
       "    }\n",
       "</style>\n",
       "<table border=\"1\" class=\"dataframe\">\n",
       "  <thead>\n",
       "    <tr style=\"text-align: right;\">\n",
       "      <th></th>\n",
       "      <th>patient_id</th>\n",
       "      <th>slope_of_peak_exercise_st_segment</th>\n",
       "      <th>thal</th>\n",
       "      <th>resting_blood_pressure</th>\n",
       "      <th>chest_pain_type</th>\n",
       "      <th>num_major_vessels</th>\n",
       "      <th>fasting_blood_sugar_gt_120_mg_per_dl</th>\n",
       "      <th>resting_ekg_results</th>\n",
       "      <th>serum_cholesterol_mg_per_dl</th>\n",
       "      <th>oldpeak_eq_st_depression</th>\n",
       "      <th>sex</th>\n",
       "      <th>age</th>\n",
       "      <th>max_heart_rate_achieved</th>\n",
       "      <th>exercise_induced_angina</th>\n",
       "      <th>heart_disease_present</th>\n",
       "    </tr>\n",
       "  </thead>\n",
       "  <tbody>\n",
       "    <tr>\n",
       "      <th>0</th>\n",
       "      <td>0z64un</td>\n",
       "      <td>1</td>\n",
       "      <td>normal</td>\n",
       "      <td>128</td>\n",
       "      <td>2</td>\n",
       "      <td>0</td>\n",
       "      <td>0</td>\n",
       "      <td>2</td>\n",
       "      <td>308</td>\n",
       "      <td>0.0</td>\n",
       "      <td>1</td>\n",
       "      <td>45</td>\n",
       "      <td>170</td>\n",
       "      <td>0</td>\n",
       "      <td>0</td>\n",
       "    </tr>\n",
       "    <tr>\n",
       "      <th>1</th>\n",
       "      <td>ryoo3j</td>\n",
       "      <td>2</td>\n",
       "      <td>normal</td>\n",
       "      <td>110</td>\n",
       "      <td>3</td>\n",
       "      <td>0</td>\n",
       "      <td>0</td>\n",
       "      <td>0</td>\n",
       "      <td>214</td>\n",
       "      <td>1.6</td>\n",
       "      <td>0</td>\n",
       "      <td>54</td>\n",
       "      <td>158</td>\n",
       "      <td>0</td>\n",
       "      <td>0</td>\n",
       "    </tr>\n",
       "    <tr>\n",
       "      <th>2</th>\n",
       "      <td>yt1s1x</td>\n",
       "      <td>1</td>\n",
       "      <td>normal</td>\n",
       "      <td>125</td>\n",
       "      <td>4</td>\n",
       "      <td>3</td>\n",
       "      <td>0</td>\n",
       "      <td>2</td>\n",
       "      <td>304</td>\n",
       "      <td>0.0</td>\n",
       "      <td>1</td>\n",
       "      <td>77</td>\n",
       "      <td>162</td>\n",
       "      <td>1</td>\n",
       "      <td>1</td>\n",
       "    </tr>\n",
       "    <tr>\n",
       "      <th>3</th>\n",
       "      <td>l2xjde</td>\n",
       "      <td>1</td>\n",
       "      <td>reversible_defect</td>\n",
       "      <td>152</td>\n",
       "      <td>4</td>\n",
       "      <td>0</td>\n",
       "      <td>0</td>\n",
       "      <td>0</td>\n",
       "      <td>223</td>\n",
       "      <td>0.0</td>\n",
       "      <td>1</td>\n",
       "      <td>40</td>\n",
       "      <td>181</td>\n",
       "      <td>0</td>\n",
       "      <td>1</td>\n",
       "    </tr>\n",
       "    <tr>\n",
       "      <th>4</th>\n",
       "      <td>oyt4ek</td>\n",
       "      <td>3</td>\n",
       "      <td>reversible_defect</td>\n",
       "      <td>178</td>\n",
       "      <td>1</td>\n",
       "      <td>0</td>\n",
       "      <td>0</td>\n",
       "      <td>2</td>\n",
       "      <td>270</td>\n",
       "      <td>4.2</td>\n",
       "      <td>1</td>\n",
       "      <td>59</td>\n",
       "      <td>145</td>\n",
       "      <td>0</td>\n",
       "      <td>0</td>\n",
       "    </tr>\n",
       "    <tr>\n",
       "      <th>...</th>\n",
       "      <td>...</td>\n",
       "      <td>...</td>\n",
       "      <td>...</td>\n",
       "      <td>...</td>\n",
       "      <td>...</td>\n",
       "      <td>...</td>\n",
       "      <td>...</td>\n",
       "      <td>...</td>\n",
       "      <td>...</td>\n",
       "      <td>...</td>\n",
       "      <td>...</td>\n",
       "      <td>...</td>\n",
       "      <td>...</td>\n",
       "      <td>...</td>\n",
       "      <td>...</td>\n",
       "    </tr>\n",
       "    <tr>\n",
       "      <th>175</th>\n",
       "      <td>5qfar3</td>\n",
       "      <td>2</td>\n",
       "      <td>reversible_defect</td>\n",
       "      <td>125</td>\n",
       "      <td>4</td>\n",
       "      <td>2</td>\n",
       "      <td>1</td>\n",
       "      <td>0</td>\n",
       "      <td>254</td>\n",
       "      <td>0.2</td>\n",
       "      <td>1</td>\n",
       "      <td>67</td>\n",
       "      <td>163</td>\n",
       "      <td>0</td>\n",
       "      <td>1</td>\n",
       "    </tr>\n",
       "    <tr>\n",
       "      <th>176</th>\n",
       "      <td>2s2b1f</td>\n",
       "      <td>2</td>\n",
       "      <td>normal</td>\n",
       "      <td>180</td>\n",
       "      <td>4</td>\n",
       "      <td>0</td>\n",
       "      <td>0</td>\n",
       "      <td>1</td>\n",
       "      <td>327</td>\n",
       "      <td>3.4</td>\n",
       "      <td>0</td>\n",
       "      <td>55</td>\n",
       "      <td>117</td>\n",
       "      <td>1</td>\n",
       "      <td>1</td>\n",
       "    </tr>\n",
       "    <tr>\n",
       "      <th>177</th>\n",
       "      <td>nsd00i</td>\n",
       "      <td>2</td>\n",
       "      <td>reversible_defect</td>\n",
       "      <td>125</td>\n",
       "      <td>3</td>\n",
       "      <td>0</td>\n",
       "      <td>0</td>\n",
       "      <td>0</td>\n",
       "      <td>309</td>\n",
       "      <td>1.8</td>\n",
       "      <td>1</td>\n",
       "      <td>64</td>\n",
       "      <td>131</td>\n",
       "      <td>1</td>\n",
       "      <td>1</td>\n",
       "    </tr>\n",
       "    <tr>\n",
       "      <th>178</th>\n",
       "      <td>0xw93k</td>\n",
       "      <td>1</td>\n",
       "      <td>normal</td>\n",
       "      <td>124</td>\n",
       "      <td>3</td>\n",
       "      <td>2</td>\n",
       "      <td>1</td>\n",
       "      <td>0</td>\n",
       "      <td>255</td>\n",
       "      <td>0.0</td>\n",
       "      <td>1</td>\n",
       "      <td>48</td>\n",
       "      <td>175</td>\n",
       "      <td>0</td>\n",
       "      <td>0</td>\n",
       "    </tr>\n",
       "    <tr>\n",
       "      <th>179</th>\n",
       "      <td>2nx10r</td>\n",
       "      <td>1</td>\n",
       "      <td>normal</td>\n",
       "      <td>160</td>\n",
       "      <td>3</td>\n",
       "      <td>1</td>\n",
       "      <td>0</td>\n",
       "      <td>0</td>\n",
       "      <td>201</td>\n",
       "      <td>0.0</td>\n",
       "      <td>0</td>\n",
       "      <td>54</td>\n",
       "      <td>163</td>\n",
       "      <td>0</td>\n",
       "      <td>0</td>\n",
       "    </tr>\n",
       "  </tbody>\n",
       "</table>\n",
       "<p>180 rows × 15 columns</p>\n",
       "</div>"
      ],
      "text/plain": [
       "    patient_id  slope_of_peak_exercise_st_segment               thal  \\\n",
       "0       0z64un                                  1             normal   \n",
       "1       ryoo3j                                  2             normal   \n",
       "2       yt1s1x                                  1             normal   \n",
       "3       l2xjde                                  1  reversible_defect   \n",
       "4       oyt4ek                                  3  reversible_defect   \n",
       "..         ...                                ...                ...   \n",
       "175     5qfar3                                  2  reversible_defect   \n",
       "176     2s2b1f                                  2             normal   \n",
       "177     nsd00i                                  2  reversible_defect   \n",
       "178     0xw93k                                  1             normal   \n",
       "179     2nx10r                                  1             normal   \n",
       "\n",
       "     resting_blood_pressure  chest_pain_type  num_major_vessels  \\\n",
       "0                       128                2                  0   \n",
       "1                       110                3                  0   \n",
       "2                       125                4                  3   \n",
       "3                       152                4                  0   \n",
       "4                       178                1                  0   \n",
       "..                      ...              ...                ...   \n",
       "175                     125                4                  2   \n",
       "176                     180                4                  0   \n",
       "177                     125                3                  0   \n",
       "178                     124                3                  2   \n",
       "179                     160                3                  1   \n",
       "\n",
       "     fasting_blood_sugar_gt_120_mg_per_dl  resting_ekg_results  \\\n",
       "0                                       0                    2   \n",
       "1                                       0                    0   \n",
       "2                                       0                    2   \n",
       "3                                       0                    0   \n",
       "4                                       0                    2   \n",
       "..                                    ...                  ...   \n",
       "175                                     1                    0   \n",
       "176                                     0                    1   \n",
       "177                                     0                    0   \n",
       "178                                     1                    0   \n",
       "179                                     0                    0   \n",
       "\n",
       "     serum_cholesterol_mg_per_dl  oldpeak_eq_st_depression  sex  age  \\\n",
       "0                            308                       0.0    1   45   \n",
       "1                            214                       1.6    0   54   \n",
       "2                            304                       0.0    1   77   \n",
       "3                            223                       0.0    1   40   \n",
       "4                            270                       4.2    1   59   \n",
       "..                           ...                       ...  ...  ...   \n",
       "175                          254                       0.2    1   67   \n",
       "176                          327                       3.4    0   55   \n",
       "177                          309                       1.8    1   64   \n",
       "178                          255                       0.0    1   48   \n",
       "179                          201                       0.0    0   54   \n",
       "\n",
       "     max_heart_rate_achieved  exercise_induced_angina  heart_disease_present  \n",
       "0                        170                        0                      0  \n",
       "1                        158                        0                      0  \n",
       "2                        162                        1                      1  \n",
       "3                        181                        0                      1  \n",
       "4                        145                        0                      0  \n",
       "..                       ...                      ...                    ...  \n",
       "175                      163                        0                      1  \n",
       "176                      117                        1                      1  \n",
       "177                      131                        1                      1  \n",
       "178                      175                        0                      0  \n",
       "179                      163                        0                      0  \n",
       "\n",
       "[180 rows x 15 columns]"
      ]
     },
     "execution_count": 46,
     "metadata": {},
     "output_type": "execute_result"
    }
   ],
   "source": [
    "df = pd.read_csv('values.csv')\n",
    "df"
   ]
  },
  {
   "cell_type": "code",
   "execution_count": 47,
   "metadata": {},
   "outputs": [],
   "source": [
    "df['thal'][df['thal'] == 'normal'] = 0\n",
    "df['thal'][df['thal'] == 'reversible_defect'] = 2\n",
    "df['thal'][df['thal'] == 'fixed_defect'] = 1\n",
    "df['thal'] = df['thal'].astype('int')"
   ]
  },
  {
   "cell_type": "markdown",
   "metadata": {},
   "source": [
    "### Purpose: Checking of outliers"
   ]
  },
  {
   "cell_type": "code",
   "execution_count": 48,
   "metadata": {},
   "outputs": [
    {
     "data": {
      "image/png": "[encoded data removed]",
      "text/plain": [
       "<Figure size 1440x1008 with 14 Axes>"
      ]
     },
     "metadata": {
      "needs_background": "light"
     },
     "output_type": "display_data"
    }
   ],
   "source": [
    "fig, ax = plt.subplots(7,2, figsize = (20,14))\n",
    "sns.boxplot(df['slope_of_peak_exercise_st_segment'], ax = ax[0,0])\n",
    "sns.boxplot(df['thal'], ax = ax[1,0])\n",
    "sns.boxplot(df['resting_blood_pressure'], ax = ax[2,0])\n",
    "sns.boxplot(df['chest_pain_type'], ax = ax[3,0])\n",
    "sns.boxplot(df['num_major_vessels'], ax = ax[4,0])\n",
    "sns.boxplot(df['fasting_blood_sugar_gt_120_mg_per_dl'], ax = ax[5,0])\n",
    "sns.boxplot(df['resting_ekg_results'], ax = ax[6,0])\n",
    "sns.boxplot(df['serum_cholesterol_mg_per_dl'], ax = ax[0,1])\n",
    "sns.boxplot(df['oldpeak_eq_st_depression'], ax = ax[1,1])\n",
    "sns.boxplot(df['sex'], ax = ax[2,1])\n",
    "sns.boxplot(df['age'], ax = ax[3,1])\n",
    "sns.boxplot(df['max_heart_rate_achieved'], ax = ax[4,1])\n",
    "sns.boxplot(df['exercise_induced_angina'], ax = ax[5,1])\n",
    "plt.tight_layout()"
   ]
  },
  {
   "cell_type": "code",
   "execution_count": 49,
   "metadata": {},
   "outputs": [],
   "source": [
    "q3_serum = float(df['serum_cholesterol_mg_per_dl'].quantile(.75)) + 1.5*(df['serum_cholesterol_mg_per_dl'].quantile(.75)-df['serum_cholesterol_mg_per_dl'].quantile(.25))\n",
    "q3_oldpeak = float(df['oldpeak_eq_st_depression'].quantile(.75)) + 1.5*(float(df['oldpeak_eq_st_depression'].quantile(.75))-float(df['oldpeak_eq_st_depression'].quantile(.25)))\n",
    "q3_resting = float(df['resting_ekg_results'].quantile(.75)) + 1.5*(df['resting_ekg_results'].quantile(.75)-df['resting_ekg_results'].quantile(.25))\n"
   ]
  },
  {
   "cell_type": "markdown",
   "metadata": {},
   "source": [
    "### Removal of outliers"
   ]
  },
  {
   "cell_type": "code",
   "execution_count": 50,
   "metadata": {},
   "outputs": [],
   "source": [
    "df = df[df['serum_cholesterol_mg_per_dl'] < q3_serum]\n",
    "df = df[df['oldpeak_eq_st_depression'] < q3_oldpeak]\n",
    "df = df[df['resting_ekg_results'] < q3_resting]"
   ]
  },
  {
   "cell_type": "markdown",
   "metadata": {},
   "source": []
  },
  {
   "cell_type": "markdown",
   "metadata": {},
   "source": [
    "#### Acquire training and testing data\n",
    "* with Application of SMOTE over training data only"
   ]
  },
  {
   "cell_type": "code",
   "execution_count": 51,
   "metadata": {},
   "outputs": [],
   "source": [
    "X= df.iloc[:,1:-1]\n",
    "y = df.iloc[:,-1:]\n",
    "from sklearn.model_selection import train_test_split\n",
    "X_train, X_test, y_train, y_test = train_test_split(X, y, test_size=0.2, random_state=0)\n",
    "from imblearn.over_sampling import SMOTE\n",
    "oversampling =  SMOTE(random_state=4)\n",
    "X_train_over , y_train_over  = oversampling.fit_resample(X_train, y_train)\n"
   ]
  },
  {
   "cell_type": "code",
   "execution_count": 52,
   "metadata": {},
   "outputs": [
    {
     "name": "stdout",
     "output_type": "stream",
     "text": [
      "heart_disease_present\n",
      "0                        80\n",
      "1                        80\n",
      "dtype: int64\n",
      "heart_disease_present\n",
      "1                        18\n",
      "0                        17\n",
      "dtype: int64\n"
     ]
    }
   ],
   "source": [
    "print(y_train_over.value_counts())\n",
    "print(y_test.value_counts())"
   ]
  },
  {
   "cell_type": "markdown",
   "metadata": {},
   "source": [
    "### Model building (Without Outliers)\n",
    "* Logistic Regression\n",
    "* Random Forest\n",
    "* Gradient Boosting\n",
    "* XGB\n",
    "* KNN - performs poorly, so the team decided to remove \n",
    "* SVM - took too much time to train/fit\n",
    "* Stacking Classifier "
   ]
  },
  {
   "cell_type": "markdown",
   "metadata": {},
   "source": [
    "## Logistic Regression"
   ]
  },
  {
   "cell_type": "code",
   "execution_count": 53,
   "metadata": {},
   "outputs": [
    {
     "name": "stdout",
     "output_type": "stream",
     "text": [
      "LogisticRegression(C=50, random_state=0)\n",
      "0.78125\n"
     ]
    }
   ],
   "source": [
    "\n",
    "from sklearn.linear_model import LogisticRegression\n",
    "from sklearn.model_selection import cross_validate\n",
    "from sklearn.metrics import accuracy_score, recall_score,f1_score,precision_score\n",
    "from sklearn.feature_selection import RFE\n",
    "lr_model = LogisticRegression(C=0.1, solver='liblinear', random_state= 0)\n",
    "\n",
    "from sklearn.model_selection import GridSearchCV, RandomizedSearchCV\n",
    "parameters = {'solver': ['newton-cg', 'lbfgs', 'liblinear', 'sag', 'sag'],\n",
    "              'penalty':['none', 'l1', 'l2', 'elasticnet'],\n",
    "              'C' : [0.001, 0.10, 0.1, 10, 25, 50, 100, 1000]\n",
    "             }  \n",
    "\n",
    "#grid = GridSearchCV(rf_model,parameters,cv=5,verbose=2)\n",
    "lr_grid = RandomizedSearchCV(lr_model,parameters,cv=5)\n",
    "lr_grid.fit(X_train_over,y_train_over)\n",
    "print(lr_grid.best_estimator_)\n",
    "print(lr_grid.best_score_)\n"
   ]
  },
  {
   "cell_type": "code",
   "execution_count": 84,
   "metadata": {},
   "outputs": [
    {
     "name": "stdout",
     "output_type": "stream",
     "text": [
      "Feature Ranking: [1 1 4 1 1 1 1 3 1 1 2 1 1]\n"
     ]
    }
   ],
   "source": [
    "lr_rfe = RFE(lr_model, n_features_to_select = 10)\n",
    "fit = lr_rfe.fit(X_train_over, y_train_over)\n",
    "print(\"Feature Ranking: %s\" % (fit.ranking_))\n",
    "#'slope_of_peak_exercise_st_segment','thal','resting_blood_pressure','chest_pain_type','num_major_vessels','fasting_blood_sugar_gt_120_mg_per_dl','resting_ekg_results','serum_cholesterol_mg_per_dl','oldpeak_eq_st_depression','sex','age','max_heart_rate_achieved','exercise_induced_angina'\n"
   ]
  },
  {
   "cell_type": "code",
   "execution_count": 55,
   "metadata": {},
   "outputs": [
    {
     "name": "stdout",
     "output_type": "stream",
     "text": [
      "Number of features selected: 2\n",
      "The Accuracy for Training Phase: 0.775\n",
      "The Average Precision for Training Phase: 0.7444444444444445\n",
      "The Average Recall for Training Phase: 0.8375\n",
      "The Average F1 for Training Phase: 0.788235294117647\n",
      "Number of features selected: 3\n",
      "The Accuracy for Training Phase: 0.7875\n",
      "The Average Precision for Training Phase: 0.7738095238095238\n",
      "The Average Recall for Training Phase: 0.8125\n",
      "The Average F1 for Training Phase: 0.7926829268292684\n",
      "Number of features selected: 4\n",
      "The Accuracy for Training Phase: 0.8\n",
      "The Average Precision for Training Phase: 0.7790697674418605\n",
      "The Average Recall for Training Phase: 0.8375\n",
      "The Average F1 for Training Phase: 0.8072289156626506\n",
      "Number of features selected: 5\n",
      "The Accuracy for Training Phase: 0.7875\n",
      "The Average Precision for Training Phase: 0.7674418604651163\n",
      "The Average Recall for Training Phase: 0.825\n",
      "The Average F1 for Training Phase: 0.7951807228915662\n",
      "Number of features selected: 6\n",
      "The Accuracy for Training Phase: 0.79375\n",
      "The Average Precision for Training Phase: 0.7701149425287356\n",
      "The Average Recall for Training Phase: 0.8375\n",
      "The Average F1 for Training Phase: 0.8023952095808383\n",
      "Number of features selected: 7\n",
      "The Accuracy for Training Phase: 0.78125\n",
      "The Average Precision for Training Phase: 0.7586206896551724\n",
      "The Average Recall for Training Phase: 0.825\n",
      "The Average F1 for Training Phase: 0.7904191616766467\n",
      "Number of features selected: 8\n",
      "The Accuracy for Training Phase: 0.78125\n",
      "The Average Precision for Training Phase: 0.7586206896551724\n",
      "The Average Recall for Training Phase: 0.825\n",
      "The Average F1 for Training Phase: 0.7904191616766467\n",
      "Number of features selected: 9\n",
      "The Accuracy for Training Phase: 0.79375\n",
      "The Average Precision for Training Phase: 0.7640449438202247\n",
      "The Average Recall for Training Phase: 0.85\n",
      "The Average F1 for Training Phase: 0.8047337278106509\n",
      "Number of features selected: 10\n",
      "The Accuracy for Training Phase: 0.84375\n",
      "The Average Precision for Training Phase: 0.8666666666666667\n",
      "The Average Recall for Training Phase: 0.8125\n",
      "The Average F1 for Training Phase: 0.8387096774193549\n",
      "Number of features selected: 11\n",
      "The Accuracy for Training Phase: 0.8375\n",
      "The Average Precision for Training Phase: 0.8552631578947368\n",
      "The Average Recall for Training Phase: 0.8125\n",
      "The Average F1 for Training Phase: 0.8333333333333334\n",
      "Number of features selected: 12\n",
      "The Accuracy for Training Phase: 0.8125\n",
      "The Average Precision for Training Phase: 0.8378378378378378\n",
      "The Average Recall for Training Phase: 0.775\n",
      "The Average F1 for Training Phase: 0.8051948051948051\n",
      "Number of features selected: 13\n",
      "The Accuracy for Training Phase: 0.80625\n",
      "The Average Precision for Training Phase: 0.8266666666666667\n",
      "The Average Recall for Training Phase: 0.775\n",
      "The Average F1 for Training Phase: 0.8000000000000002\n"
     ]
    }
   ],
   "source": [
    "for i in range(2, 14):\n",
    "    lr_rfe = RFE(lr_model, i)\n",
    "    fit = lr_rfe.fit(X_train_over, y_train_over)\n",
    "    X_train_selected = lr_rfe.transform(X_train_over)\n",
    "    X_test_selected = lr_rfe.transform(X_test)\n",
    "    lr_model.fit(X_train_selected,y_train_over)\n",
    "    preds_lr1 = lr_model.predict(X_train_selected)\n",
    "    print(\"Number of features selected:\", i)\n",
    "    print('The Accuracy for Training Phase:', accuracy_score(y_train_over, preds_lr1))\n",
    "    print('The Average Precision for Training Phase:', precision_score(y_train_over, preds_lr1))\n",
    "    print('The Average Recall for Training Phase:',recall_score(y_train_over, preds_lr1))\n",
    "    print('The Average F1 for Training Phase:',f1_score(y_train_over, preds_lr1))"
   ]
  },
  {
   "cell_type": "code",
   "execution_count": 56,
   "metadata": {},
   "outputs": [
    {
     "name": "stdout",
     "output_type": "stream",
     "text": [
      "TRAINING METRICS\n",
      "The Accuracy for Training Phase: 0.84375\n",
      "The Precision for Training Phase: 0.8666666666666667\n",
      "The Recall for Training Phase: 0.8125\n",
      "The F1 for Training Phase: 0.8387096774193549\n",
      "TESTING METRICS\n",
      "The Accuracy for Testing Phase: 0.9142857142857143\n",
      "The Average Precision for Testing Phase: 0.8947368421052632\n",
      "The Average Recall for Testing Phase: 0.9444444444444444\n",
      "The Average F1 for Testing Phase: 0.918918918918919\n"
     ]
    },
    {
     "data": {
      "text/html": [
       "<div>\n",
       "<style scoped>\n",
       "    .dataframe tbody tr th:only-of-type {\n",
       "        vertical-align: middle;\n",
       "    }\n",
       "\n",
       "    .dataframe tbody tr th {\n",
       "        vertical-align: top;\n",
       "    }\n",
       "\n",
       "    .dataframe thead th {\n",
       "        text-align: right;\n",
       "    }\n",
       "</style>\n",
       "<table border=\"1\" class=\"dataframe\">\n",
       "  <thead>\n",
       "    <tr style=\"text-align: right;\">\n",
       "      <th>col_0</th>\n",
       "      <th>0</th>\n",
       "      <th>1</th>\n",
       "    </tr>\n",
       "    <tr>\n",
       "      <th>row_0</th>\n",
       "      <th></th>\n",
       "      <th></th>\n",
       "    </tr>\n",
       "  </thead>\n",
       "  <tbody>\n",
       "    <tr>\n",
       "      <th>0</th>\n",
       "      <td>15</td>\n",
       "      <td>2</td>\n",
       "    </tr>\n",
       "    <tr>\n",
       "      <th>1</th>\n",
       "      <td>1</td>\n",
       "      <td>17</td>\n",
       "    </tr>\n",
       "  </tbody>\n",
       "</table>\n",
       "</div>"
      ],
      "text/plain": [
       "col_0   0   1\n",
       "row_0        \n",
       "0      15   2\n",
       "1       1  17"
      ]
     },
     "execution_count": 56,
     "metadata": {},
     "output_type": "execute_result"
    }
   ],
   "source": [
    "lr_rfe = RFE(lr_model, n_features_to_select = 10)\n",
    "fit = lr_rfe.fit(X_train_over, y_train_over)\n",
    "X_test_selected = lr_rfe.transform(X_test)\n",
    "X_train_selected = lr_rfe.transform(X_train_over)\n",
    "X_selected = lr_rfe.transform(X)\n",
    "lr_model.fit(X_train_selected,y_train_over)\n",
    "\n",
    "preds_lr = lr_model.predict(X_test_selected)\n",
    "\n",
    "print('TRAINING METRICS')\n",
    "print('The Accuracy for Training Phase:', accuracy_score(y_train_over,lr_model.predict(X_train_selected)))\n",
    "print('The Precision for Training Phase:', precision_score(y_train_over, lr_model.predict(X_train_selected)))\n",
    "print('The Recall for Training Phase:',recall_score(y_train_over, lr_model.predict(X_train_selected)))\n",
    "print('The F1 for Training Phase:',f1_score(y_train_over, lr_model.predict(X_train_selected)))\n",
    "\n",
    "print('TESTING METRICS')\n",
    "print('The Accuracy for Testing Phase:', accuracy_score(y_test, preds_lr))\n",
    "print('The Average Precision for Testing Phase:', precision_score(y_test, preds_lr))\n",
    "print('The Average Recall for Testing Phase:',recall_score(y_test, preds_lr))\n",
    "print('The Average F1 for Testing Phase:',f1_score(y_test, preds_lr))\n",
    "pd.crosstab(y_test.values.ravel(),preds_lr)"
   ]
  },
  {
   "cell_type": "code",
   "execution_count": 57,
   "metadata": {},
   "outputs": [
    {
     "name": "stdout",
     "output_type": "stream",
     "text": [
      "TESTING METRICS\n",
      "The Average Accuracy for Testing Phase: 0.8333333333333334\n",
      "The Accuracy STD for Testing Phase: 0.03542766668372973\n",
      "The Average Precision for Testing Phase: 0.8386064877292947\n",
      "The Precision STD for Testing Phase: 0.05208661590817603\n",
      "The Average Recall for Testing Phase: 0.777948717948718\n",
      "The Recall STD for Testing Phase: 0.08376103261744895\n",
      "The Average F1 for Testing Phase: 0.8032941900866429\n",
      "The F1 STD for Testing Phase: 0.0457228378204873\n",
      " \n"
     ]
    }
   ],
   "source": [
    "#For Generalization\n",
    "lr_rfe = RFE(lr_model, n_features_to_select = 10)\n",
    "fit = lr_rfe.fit(X_train_over, y_train_over)\n",
    "X_test_selected1 = lr_rfe.transform(X_test)\n",
    "X_train_selected1 = lr_rfe.transform(X_train_over)\n",
    "X_selected1 = lr_rfe.transform(X)\n",
    "lr_model.fit(X_train_selected1,y_train_over)\n",
    "scores6 = cross_validate(lr_model,X_selected1,y,cv=3,scoring=['accuracy','f1','precision', 'recall'], return_train_score=True)\n",
    "print('TESTING METRICS')\n",
    "print('The Average Accuracy for Testing Phase:',scores6['test_accuracy'].mean())\n",
    "print('The Accuracy STD for Testing Phase:',scores6['test_accuracy'].std())\n",
    "print('The Average Precision for Testing Phase:',scores6['test_precision'].mean())\n",
    "print('The Precision STD for Testing Phase:',scores6['test_precision'].std())\n",
    "print('The Average Recall for Testing Phase:',scores6['test_recall'].mean())\n",
    "print('The Recall STD for Testing Phase:',scores6['test_recall'].std())\n",
    "print('The Average F1 for Testing Phase:',scores6['test_f1'].mean())\n",
    "print('The F1 STD for Testing Phase:',scores6['test_f1'].std())\n",
    "print(\" \")"
   ]
  },
  {
   "cell_type": "markdown",
   "metadata": {},
   "source": [
    "## RandomForestClassifier"
   ]
  },
  {
   "cell_type": "code",
   "execution_count": 58,
   "metadata": {},
   "outputs": [
    {
     "name": "stdout",
     "output_type": "stream",
     "text": [
      "RandomForestClassifier(bootstrap='False', max_depth=6, max_features=8,\n",
      "                       n_estimators=200, oob_score='True', random_state=0)\n",
      "0.80625\n"
     ]
    }
   ],
   "source": [
    "from sklearn.ensemble import RandomForestClassifier\n",
    "rf_model = RandomForestClassifier(max_depth=4,\n",
    "                       n_estimators=200,random_state= 0)\n",
    "\n",
    "parameters = {'max_depth':[2,4,6,8],\n",
    "              'n_estimators':[30,40,50,100,200],\n",
    "              'max_features' : [7,8,9,10,11,12,13],\n",
    "              'oob_score': ['True', 'False'],\n",
    "              'bootstrap':['True', 'False'],\n",
    "             }  \n",
    "\n",
    "#grid = GridSearchCV(rf_model,parameters,cv=5,verbose=2)\n",
    "rf_grid = RandomizedSearchCV(rf_model,parameters,cv=5)\n",
    "rf_grid.fit(X_train_over,y_train_over)\n",
    "print(rf_grid.best_estimator_)\n",
    "print(rf_grid.best_score_)"
   ]
  },
  {
   "cell_type": "code",
   "execution_count": 59,
   "metadata": {},
   "outputs": [
    {
     "name": "stdout",
     "output_type": "stream",
     "text": [
      "Feature Ranking: [4 1 1 1 1 6 5 1 1 3 1 1 2]\n"
     ]
    }
   ],
   "source": [
    "rf_rfe = RFE(rf_model, n_features_to_select = 8)\n",
    "fit = rf_rfe.fit(X_train_over, y_train_over)\n",
    "print(\"Feature Ranking: %s\" % (fit.ranking_))\n",
    "#'slope_of_peak_exercise_st_segment','thal','resting_blood_pressure','chest_pain_type','num_major_vessels','fasting_blood_sugar_gt_120_mg_per_dl','resting_ekg_results','serum_cholesterol_mg_per_dl','oldpeak_eq_st_depression','sex','age','max_heart_rate_achieved','exercise_induced_angina'\n",
    "\n"
   ]
  },
  {
   "cell_type": "code",
   "execution_count": 60,
   "metadata": {},
   "outputs": [
    {
     "name": "stdout",
     "output_type": "stream",
     "text": [
      "Number of features selected: 2\n",
      "The Accuracy for Training Phase: 0.83125\n",
      "The Average Precision for Training Phase: 0.8955223880597015\n",
      "The Average Recall for Training Phase: 0.75\n",
      "The Average F1 for Training Phase: 0.816326530612245\n",
      "Number of features selected: 3\n",
      "The Accuracy for Training Phase: 0.86875\n",
      "The Average Precision for Training Phase: 0.9154929577464789\n",
      "The Average Recall for Training Phase: 0.8125\n",
      "The Average F1 for Training Phase: 0.8609271523178808\n",
      "Number of features selected: 4\n",
      "The Accuracy for Training Phase: 0.8875\n",
      "The Average Precision for Training Phase: 0.918918918918919\n",
      "The Average Recall for Training Phase: 0.85\n",
      "The Average F1 for Training Phase: 0.8831168831168831\n",
      "Number of features selected: 5\n",
      "The Accuracy for Training Phase: 0.90625\n",
      "The Average Precision for Training Phase: 0.9113924050632911\n",
      "The Average Recall for Training Phase: 0.9\n",
      "The Average F1 for Training Phase: 0.9056603773584907\n",
      "Number of features selected: 6\n",
      "The Accuracy for Training Phase: 0.91875\n",
      "The Average Precision for Training Phase: 0.9240506329113924\n",
      "The Average Recall for Training Phase: 0.9125\n",
      "The Average F1 for Training Phase: 0.9182389937106918\n",
      "Number of features selected: 7\n",
      "The Accuracy for Training Phase: 0.91875\n",
      "The Average Precision for Training Phase: 0.935064935064935\n",
      "The Average Recall for Training Phase: 0.9\n",
      "The Average F1 for Training Phase: 0.9171974522292993\n",
      "Number of features selected: 8\n",
      "The Accuracy for Training Phase: 0.925\n",
      "The Average Precision for Training Phase: 0.9473684210526315\n",
      "The Average Recall for Training Phase: 0.9\n",
      "The Average F1 for Training Phase: 0.9230769230769231\n",
      "Number of features selected: 9\n",
      "The Accuracy for Training Phase: 0.9375\n",
      "The Average Precision for Training Phase: 0.9605263157894737\n",
      "The Average Recall for Training Phase: 0.9125\n",
      "The Average F1 for Training Phase: 0.935897435897436\n",
      "Number of features selected: 10\n",
      "The Accuracy for Training Phase: 0.95625\n",
      "The Average Precision for Training Phase: 0.9620253164556962\n",
      "The Average Recall for Training Phase: 0.95\n",
      "The Average F1 for Training Phase: 0.9559748427672956\n",
      "Number of features selected: 11\n",
      "The Accuracy for Training Phase: 0.95\n",
      "The Average Precision for Training Phase: 0.9615384615384616\n",
      "The Average Recall for Training Phase: 0.9375\n",
      "The Average F1 for Training Phase: 0.9493670886075949\n",
      "Number of features selected: 12\n",
      "The Accuracy for Training Phase: 0.95625\n",
      "The Average Precision for Training Phase: 0.9620253164556962\n",
      "The Average Recall for Training Phase: 0.95\n",
      "The Average F1 for Training Phase: 0.9559748427672956\n",
      "Number of features selected: 13\n",
      "The Accuracy for Training Phase: 0.94375\n",
      "The Average Precision for Training Phase: 0.961038961038961\n",
      "The Average Recall for Training Phase: 0.925\n",
      "The Average F1 for Training Phase: 0.9426751592356688\n"
     ]
    }
   ],
   "source": [
    "for i in range(2, 14):\n",
    "    rf_rfe = RFE(rf_model, i)\n",
    "    fit = rf_rfe.fit(X_train_over, y_train_over)\n",
    "    X_train_selected = rf_rfe.transform(X_train_over)\n",
    "    X_test_selected = rf_rfe.transform(X_test)\n",
    "    rf_model.fit(X_train_selected,y_train_over)\n",
    "    preds_rf1 = rf_model.predict(X_train_selected)\n",
    "    print(\"Number of features selected:\", i)\n",
    "    print('The Accuracy for Training Phase:', accuracy_score(y_train_over, preds_rf1))\n",
    "    print('The Average Precision for Training Phase:', precision_score(y_train_over, preds_rf1))\n",
    "    print('The Average Recall for Training Phase:',recall_score(y_train_over, preds_rf1))\n",
    "    print('The Average F1 for Training Phase:',f1_score(y_train_over, preds_rf1))"
   ]
  },
  {
   "cell_type": "code",
   "execution_count": 61,
   "metadata": {},
   "outputs": [
    {
     "name": "stdout",
     "output_type": "stream",
     "text": [
      "TRAINING METRICS\n",
      "The Accuracy for Training Phase: 0.925\n",
      "The Precision for Training Phase: 0.9473684210526315\n",
      "The Recall for Training Phase: 0.9\n",
      "The F1 for Training Phase: 0.9230769230769231\n",
      "TESTING METRICS\n",
      "The Accuracy for Testing Phase: 0.8857142857142857\n",
      "The Average Precision for Testing Phase: 0.85\n",
      "The Average Recall for Testing Phase: 0.9444444444444444\n",
      "The Average F1 for Testing Phase: 0.8947368421052632\n"
     ]
    },
    {
     "data": {
      "text/html": [
       "<div>\n",
       "<style scoped>\n",
       "    .dataframe tbody tr th:only-of-type {\n",
       "        vertical-align: middle;\n",
       "    }\n",
       "\n",
       "    .dataframe tbody tr th {\n",
       "        vertical-align: top;\n",
       "    }\n",
       "\n",
       "    .dataframe thead th {\n",
       "        text-align: right;\n",
       "    }\n",
       "</style>\n",
       "<table border=\"1\" class=\"dataframe\">\n",
       "  <thead>\n",
       "    <tr style=\"text-align: right;\">\n",
       "      <th>col_0</th>\n",
       "      <th>0</th>\n",
       "      <th>1</th>\n",
       "    </tr>\n",
       "    <tr>\n",
       "      <th>row_0</th>\n",
       "      <th></th>\n",
       "      <th></th>\n",
       "    </tr>\n",
       "  </thead>\n",
       "  <tbody>\n",
       "    <tr>\n",
       "      <th>0</th>\n",
       "      <td>14</td>\n",
       "      <td>3</td>\n",
       "    </tr>\n",
       "    <tr>\n",
       "      <th>1</th>\n",
       "      <td>1</td>\n",
       "      <td>17</td>\n",
       "    </tr>\n",
       "  </tbody>\n",
       "</table>\n",
       "</div>"
      ],
      "text/plain": [
       "col_0   0   1\n",
       "row_0        \n",
       "0      14   3\n",
       "1       1  17"
      ]
     },
     "execution_count": 61,
     "metadata": {},
     "output_type": "execute_result"
    }
   ],
   "source": [
    "rf_rfe = RFE(rf_model, n_features_to_select =8)\n",
    "fit = rf_rfe.fit(X_train_over, y_train_over)\n",
    "X_test_selected = rf_rfe.transform(X_test)\n",
    "X_train_selected = rf_rfe.transform(X_train_over)\n",
    "X_selected = rf_rfe.transform(X)\n",
    "rf_model.fit(X_train_selected,y_train_over)\n",
    "\n",
    "preds_rf = rf_model.predict(X_test_selected)\n",
    "\n",
    "print('TRAINING METRICS')\n",
    "print('The Accuracy for Training Phase:', accuracy_score(y_train_over, rf_model.predict(X_train_selected)))\n",
    "print('The Precision for Training Phase:', precision_score(y_train_over, rf_model.predict(X_train_selected)))\n",
    "print('The Recall for Training Phase:',recall_score(y_train_over, rf_model.predict(X_train_selected)))\n",
    "print('The F1 for Training Phase:',f1_score(y_train_over, rf_model.predict(X_train_selected)))\n",
    "\n",
    "print('TESTING METRICS')\n",
    "print('The Accuracy for Testing Phase:', accuracy_score(y_test, preds_rf))\n",
    "print('The Average Precision for Testing Phase:', precision_score(y_test, preds_rf))\n",
    "print('The Average Recall for Testing Phase:',recall_score(y_test, preds_rf))\n",
    "print('The Average F1 for Testing Phase:',f1_score(y_test, preds_rf))\n",
    "pd.crosstab(y_test.values.ravel(),preds_rf)"
   ]
  },
  {
   "cell_type": "code",
   "execution_count": 62,
   "metadata": {},
   "outputs": [
    {
     "name": "stdout",
     "output_type": "stream",
     "text": [
      "TESTING METRICS\n",
      "The Average Accuracy for Testing Phase: 0.7931034482758621\n",
      "The Accuracy STD for Testing Phase: 0.04223258177212375\n",
      "The Average Precision for Testing Phase: 0.7724242424242425\n",
      "The Precision STD for Testing Phase: 0.04867576049984991\n",
      "The Average Recall for Testing Phase: 0.7517948717948718\n",
      "The Recall STD for Testing Phase: 0.07905091194803454\n",
      "The Average F1 for Testing Phase: 0.7607194177907569\n",
      "The F1 STD for Testing Phase: 0.059483994914287776\n",
      " \n"
     ]
    }
   ],
   "source": [
    "#For Generalization\n",
    "rf_rfe = RFE(rf_model, n_features_to_select = 8)\n",
    "fit = rf_rfe.fit(X_train_over, y_train_over)\n",
    "X_test_selected2 = rf_rfe.transform(X_test)\n",
    "X_train_selected2 = rf_rfe.transform(X_train_over)\n",
    "X_selected2 = rf_rfe.transform(X)\n",
    "rf_model.fit(X_train_selected2,y_train_over)\n",
    "scores7 = cross_validate(rf_model,X_selected2,y,cv=3,scoring=['accuracy','f1','precision', 'recall'], return_train_score=True)\n",
    "print('TESTING METRICS')\n",
    "print('The Average Accuracy for Testing Phase:',scores7['test_accuracy'].mean())\n",
    "print('The Accuracy STD for Testing Phase:',scores7['test_accuracy'].std())\n",
    "print('The Average Precision for Testing Phase:',scores7['test_precision'].mean())\n",
    "print('The Precision STD for Testing Phase:',scores7['test_precision'].std())\n",
    "print('The Average Recall for Testing Phase:',scores7['test_recall'].mean())\n",
    "print('The Recall STD for Testing Phase:',scores7['test_recall'].std())\n",
    "print('The Average F1 for Testing Phase:',scores7['test_f1'].mean())\n",
    "print('The F1 STD for Testing Phase:',scores7['test_f1'].std())\n",
    "print(\" \")"
   ]
  },
  {
   "cell_type": "markdown",
   "metadata": {},
   "source": [
    "## GradientBoostingClassifier"
   ]
  },
  {
   "cell_type": "code",
   "execution_count": 63,
   "metadata": {},
   "outputs": [
    {
     "name": "stdout",
     "output_type": "stream",
     "text": [
      "GradientBoostingClassifier(max_depth=4, max_features='auto', min_samples_leaf=6,\n",
      "                           n_estimators=50, random_state=0)\n",
      "0.79375\n"
     ]
    }
   ],
   "source": [
    "\n",
    "from sklearn.ensemble import GradientBoostingClassifier\n",
    "gb_model = GradientBoostingClassifier(learning_rate=0.01, max_depth=4,\n",
    "                           max_features='sqrt', min_samples_leaf=10,\n",
    "                            random_state=0,n_estimators=200, loss = 'deviance')\n",
    "\n",
    "\n",
    "\n",
    "parameters = {'max_depth':[2,4],\n",
    "              'n_estimators':[40,50, 100, 200],\n",
    "              'max_features' : ['auto', 'sqrt'],\n",
    "              'min_samples_leaf' : [2,4,6],\n",
    "              'learning_rate': [1,0.1, 0.01,0.001]\n",
    "             }  \n",
    "\n",
    "gb_grid = RandomizedSearchCV(gb_model,parameters,cv=5)\n",
    "gb_grid.fit(X_train_over,y_train_over)\n",
    "print(gb_grid.best_estimator_)\n",
    "print(gb_grid.best_score_)"
   ]
  },
  {
   "cell_type": "code",
   "execution_count": 64,
   "metadata": {},
   "outputs": [
    {
     "name": "stdout",
     "output_type": "stream",
     "text": [
      "Feature Ranking: [5 1 3 1 1 7 6 1 1 2 1 1 4]\n"
     ]
    }
   ],
   "source": [
    "gb_rfe = RFE(gb_model, n_features_to_select = 7)\n",
    "fit = gb_rfe.fit(X_train_over, y_train_over)\n",
    "print(\"Feature Ranking: %s\" % (fit.ranking_))\n",
    "#'slope_of_peak_exercise_st_segment','thal','resting_blood_pressure','chest_pain_type','num_major_vessels','fasting_blood_sugar_gt_120_mg_per_dl','resting_ekg_results','serum_cholesterol_mg_per_dl','oldpeak_eq_st_depression','sex','age','max_heart_rate_achieved','exercise_induced_angina'\n"
   ]
  },
  {
   "cell_type": "code",
   "execution_count": 65,
   "metadata": {},
   "outputs": [
    {
     "name": "stdout",
     "output_type": "stream",
     "text": [
      "Number of features selected: 2\n",
      "The Accuracy for Training Phase: 0.81875\n",
      "The Average Precision for Training Phase: 0.8695652173913043\n",
      "The Average Recall for Training Phase: 0.75\n",
      "The Average F1 for Training Phase: 0.8053691275167786\n",
      "Number of features selected: 3\n",
      "The Accuracy for Training Phase: 0.85625\n",
      "The Average Precision for Training Phase: 0.88\n",
      "The Average Recall for Training Phase: 0.825\n",
      "The Average F1 for Training Phase: 0.8516129032258064\n",
      "Number of features selected: 4\n",
      "The Accuracy for Training Phase: 0.8625\n",
      "The Average Precision for Training Phase: 0.881578947368421\n",
      "The Average Recall for Training Phase: 0.8375\n",
      "The Average F1 for Training Phase: 0.8589743589743589\n",
      "Number of features selected: 5\n",
      "The Accuracy for Training Phase: 0.90625\n",
      "The Average Precision for Training Phase: 0.9012345679012346\n",
      "The Average Recall for Training Phase: 0.9125\n",
      "The Average F1 for Training Phase: 0.9068322981366459\n",
      "Number of features selected: 6\n",
      "The Accuracy for Training Phase: 0.925\n",
      "The Average Precision for Training Phase: 0.9358974358974359\n",
      "The Average Recall for Training Phase: 0.9125\n",
      "The Average F1 for Training Phase: 0.9240506329113924\n",
      "Number of features selected: 7\n",
      "The Accuracy for Training Phase: 0.91875\n",
      "The Average Precision for Training Phase: 0.9466666666666667\n",
      "The Average Recall for Training Phase: 0.8875\n",
      "The Average F1 for Training Phase: 0.9161290322580645\n",
      "Number of features selected: 8\n",
      "The Accuracy for Training Phase: 0.9375\n",
      "The Average Precision for Training Phase: 0.9487179487179487\n",
      "The Average Recall for Training Phase: 0.925\n",
      "The Average F1 for Training Phase: 0.9367088607594937\n",
      "Number of features selected: 9\n",
      "The Accuracy for Training Phase: 0.95625\n",
      "The Average Precision for Training Phase: 0.9620253164556962\n",
      "The Average Recall for Training Phase: 0.95\n",
      "The Average F1 for Training Phase: 0.9559748427672956\n",
      "Number of features selected: 10\n",
      "The Accuracy for Training Phase: 0.94375\n",
      "The Average Precision for Training Phase: 0.9493670886075949\n",
      "The Average Recall for Training Phase: 0.9375\n",
      "The Average F1 for Training Phase: 0.9433962264150944\n",
      "Number of features selected: 11\n",
      "The Accuracy for Training Phase: 0.95\n",
      "The Average Precision for Training Phase: 0.95\n",
      "The Average Recall for Training Phase: 0.95\n",
      "The Average F1 for Training Phase: 0.9500000000000001\n",
      "Number of features selected: 12\n",
      "The Accuracy for Training Phase: 0.93125\n",
      "The Average Precision for Training Phase: 0.948051948051948\n",
      "The Average Recall for Training Phase: 0.9125\n",
      "The Average F1 for Training Phase: 0.929936305732484\n",
      "Number of features selected: 13\n",
      "The Accuracy for Training Phase: 0.95\n",
      "The Average Precision for Training Phase: 0.95\n",
      "The Average Recall for Training Phase: 0.95\n",
      "The Average F1 for Training Phase: 0.9500000000000001\n"
     ]
    }
   ],
   "source": [
    "for i in range(2, 14):\n",
    "    gb_rfe = RFE(gb_model, i)\n",
    "    fit = gb_rfe.fit(X_train_over, y_train_over)\n",
    "    X_train_selected = gb_rfe.transform(X_train_over)\n",
    "    X_test_selected = gb_rfe.transform(X_test)\n",
    "    gb_model.fit(X_train_selected,y_train_over)\n",
    "    preds_gb = gb_model.predict(X_train_selected)\n",
    "    print(\"Number of features selected:\", i)\n",
    "    print('The Accuracy for Training Phase:', accuracy_score(y_train_over, preds_gb))\n",
    "    print('The Average Precision for Training Phase:', precision_score(y_train_over, preds_gb))\n",
    "    print('The Average Recall for Training Phase:',recall_score(y_train_over, preds_gb))\n",
    "    print('The Average F1 for Training Phase:',f1_score(y_train_over, preds_gb))"
   ]
  },
  {
   "cell_type": "code",
   "execution_count": 66,
   "metadata": {},
   "outputs": [
    {
     "name": "stdout",
     "output_type": "stream",
     "text": [
      "TRAINING METRICS\n",
      "The Accuracy for Training Phase: 0.91875\n",
      "The Precision for Training Phase: 0.9466666666666667\n",
      "The Recall for Training Phase: 0.8875\n",
      "The F1 for Training Phase: 0.9161290322580645\n",
      "TESTING METRICS\n",
      "The Accuracy for Testing Phase: 0.8571428571428571\n",
      "The Average Precision for Testing Phase: 0.8421052631578947\n",
      "The Average Recall for Testing Phase: 0.8888888888888888\n",
      "The Average F1 for Testing Phase: 0.8648648648648649\n"
     ]
    },
    {
     "data": {
      "text/html": [
       "<div>\n",
       "<style scoped>\n",
       "    .dataframe tbody tr th:only-of-type {\n",
       "        vertical-align: middle;\n",
       "    }\n",
       "\n",
       "    .dataframe tbody tr th {\n",
       "        vertical-align: top;\n",
       "    }\n",
       "\n",
       "    .dataframe thead th {\n",
       "        text-align: right;\n",
       "    }\n",
       "</style>\n",
       "<table border=\"1\" class=\"dataframe\">\n",
       "  <thead>\n",
       "    <tr style=\"text-align: right;\">\n",
       "      <th>col_0</th>\n",
       "      <th>0</th>\n",
       "      <th>1</th>\n",
       "    </tr>\n",
       "    <tr>\n",
       "      <th>row_0</th>\n",
       "      <th></th>\n",
       "      <th></th>\n",
       "    </tr>\n",
       "  </thead>\n",
       "  <tbody>\n",
       "    <tr>\n",
       "      <th>0</th>\n",
       "      <td>14</td>\n",
       "      <td>3</td>\n",
       "    </tr>\n",
       "    <tr>\n",
       "      <th>1</th>\n",
       "      <td>2</td>\n",
       "      <td>16</td>\n",
       "    </tr>\n",
       "  </tbody>\n",
       "</table>\n",
       "</div>"
      ],
      "text/plain": [
       "col_0   0   1\n",
       "row_0        \n",
       "0      14   3\n",
       "1       2  16"
      ]
     },
     "execution_count": 66,
     "metadata": {},
     "output_type": "execute_result"
    }
   ],
   "source": [
    "gb_rfe = RFE(gb_model, n_features_to_select = 7)\n",
    "fit = gb_rfe.fit(X_train_over, y_train_over)\n",
    "X_test_selected = gb_rfe.transform(X_test)\n",
    "X_train_selected = gb_rfe.transform(X_train_over)\n",
    "X_selected = gb_rfe.transform(X)\n",
    "\n",
    "gb_model.fit(X_train_selected,y_train_over)\n",
    "preds_gb = gb_model.predict(X_test_selected)\n",
    "\n",
    "print('TRAINING METRICS')\n",
    "print('The Accuracy for Training Phase:', accuracy_score(y_train_over, gb_model.predict(X_train_selected)))\n",
    "print('The Precision for Training Phase:', precision_score(y_train_over, gb_model.predict(X_train_selected)))\n",
    "print('The Recall for Training Phase:',recall_score(y_train_over, gb_model.predict(X_train_selected)))\n",
    "print('The F1 for Training Phase:',f1_score(y_train_over, gb_model.predict(X_train_selected)))\n",
    "\n",
    "print('TESTING METRICS')\n",
    "print('The Accuracy for Testing Phase:', accuracy_score(y_test, preds_gb))\n",
    "print('The Average Precision for Testing Phase:', precision_score(y_test, preds_gb))\n",
    "print('The Average Recall for Testing Phase:',recall_score(y_test, preds_gb))\n",
    "print('The Average F1 for Testing Phase:',f1_score(y_test, preds_gb))\n",
    "pd.crosstab(y_test.values.ravel(),preds_gb)"
   ]
  },
  {
   "cell_type": "code",
   "execution_count": 67,
   "metadata": {},
   "outputs": [
    {
     "name": "stdout",
     "output_type": "stream",
     "text": [
      "TESTING METRICS\n",
      "The Average Accuracy for Testing Phase: 0.7988505747126436\n",
      "The Accuracy STD for Testing Phase: 0.032510656606278054\n",
      "The Average Precision for Testing Phase: 0.7844893378226713\n",
      "The Precision STD for Testing Phase: 0.041367134850873295\n",
      "The Average Recall for Testing Phase: 0.7523076923076922\n",
      "The Recall STD for Testing Phase: 0.05348597486167146\n",
      "The Average F1 for Testing Phase: 0.7672168827386434\n",
      "The F1 STD for Testing Phase: 0.041820628031648176\n",
      " \n"
     ]
    }
   ],
   "source": [
    "gb_rfe = RFE(gb_model, n_features_to_select = 7)\n",
    "fit = gb_rfe.fit(X_train_over, y_train_over)\n",
    "X_test_selected3 = gb_rfe.transform(X_test)\n",
    "X_train_selected3 = gb_rfe.transform(X_train_over)\n",
    "X_selected3 = gb_rfe.transform(X)\n",
    "\n",
    "gb_model.fit(X_train_selected3,y_train_over)\n",
    "preds_gb = gb_model.predict(X_test_selected3)\n",
    "scores8 = cross_validate(gb_model,X_selected3,y,cv=3,scoring=['accuracy','f1','precision', 'recall'], return_train_score=True)\n",
    "print('TESTING METRICS')\n",
    "print('The Average Accuracy for Testing Phase:',scores8['test_accuracy'].mean())\n",
    "print('The Accuracy STD for Testing Phase:',scores8['test_accuracy'].std())\n",
    "print('The Average Precision for Testing Phase:',scores8['test_precision'].mean())\n",
    "print('The Precision STD for Testing Phase:',scores8['test_precision'].std())\n",
    "print('The Average Recall for Testing Phase:',scores8['test_recall'].mean())\n",
    "print('The Recall STD for Testing Phase:',scores8['test_recall'].std())\n",
    "print('The Average F1 for Testing Phase:',scores8['test_f1'].mean())\n",
    "print('The F1 STD for Testing Phase:',scores8['test_f1'].std())\n",
    "print(\" \")"
   ]
  },
  {
   "cell_type": "markdown",
   "metadata": {},
   "source": [
    "## XGBClassifier"
   ]
  },
  {
   "cell_type": "code",
   "execution_count": 68,
   "metadata": {},
   "outputs": [
    {
     "name": "stdout",
     "output_type": "stream",
     "text": [
      "XGBClassifier(base_score=0.5, booster='gbtree', colsample_bylevel=1,\n",
      "              colsample_bynode=1, colsample_bytree=0.5, eval_metric='logloss',\n",
      "              gamma=0, gpu_id=-1, importance_type='gain',\n",
      "              interaction_constraints='', learning_rate=0.1, max_delta_step=0,\n",
      "              max_depth=4, min_child_weight=1, missing=nan,\n",
      "              monotone_constraints='()', n_estimators=40, n_jobs=16,\n",
      "              num_parallel_tree=1, random_state=0, reg_alpha=0.8,\n",
      "              reg_lambda=0.5, scale_pos_weight=1, subsample=0.7,\n",
      "              tree_method='exact', validate_parameters=1, verbosity=None)\n",
      "0.79375\n"
     ]
    }
   ],
   "source": [
    "import xgboost as xgb\n",
    "from xgboost import XGBClassifier\n",
    "xgb_model = XGBClassifier(base_score=0.5, booster='gbtree', colsample_bylevel=1,\n",
    "              colsample_bynode=1, colsample_bytree=0.7, eval_metric='logloss',\n",
    "              gamma=0, gpu_id=-1, importance_type='gain',\n",
    "              interaction_constraints='', learning_rate=1, max_delta_step=0,\n",
    "              max_depth=2, min_child_weight=3, \n",
    "              monotone_constraints='()', n_estimators=200, n_jobs=16,\n",
    "              num_parallel_tree=1, random_state=0, reg_alpha=.6, reg_lambda=.6,\n",
    "              scale_pos_weight=1, subsample=0.7, tree_method='exact',\n",
    "              validate_parameters=1, verbosity=None)\n",
    "\n",
    "\n",
    "parameters = {'learning_rate': [0.01, 0.1],\n",
    "              'max_depth':[2,4,6,8],\n",
    "              'min_child_weight': [1, 3, 5],\n",
    "              'subsample': [0.5, 0.7],\n",
    "              'colsample_bytree': [0.5, 0.7],\n",
    "              'n_estimators' : [30,40,50,100,200],\n",
    "              'reg_alpha':[0.5,0.6,0.7,0.8,1],\n",
    "              'reg_lambda':[0.5,0.6,0.7,0.8,1],\n",
    "              'objective': ['binary:logistic']\n",
    "             }  \n",
    "\n",
    "xgb_grid = RandomizedSearchCV(xgb_model,parameters,cv=5)\n",
    "xgb_grid.fit(X_train_over,y_train_over)\n",
    "print(xgb_grid.best_estimator_)\n",
    "print(xgb_grid.best_score_)"
   ]
  },
  {
   "cell_type": "code",
   "execution_count": 69,
   "metadata": {},
   "outputs": [
    {
     "name": "stdout",
     "output_type": "stream",
     "text": [
      "Feature Ranking: [8 1 5 1 7 9 2 4 1 1 1 3 6]\n"
     ]
    }
   ],
   "source": [
    "xgb_rfe = RFE(xgb_model, n_features_to_select = 5)\n",
    "fit = xgb_rfe.fit(X_train_over, y_train_over)\n",
    "print(\"Feature Ranking: %s\" % (fit.ranking_))\n",
    "#'slope_of_peak_exercise_st_segment','thal','resting_blood_pressure','chest_pain_type', ,'num_major_vessels','fasting_blood_sugar_gt_120_mg_per_dl','resting_ekg_results','serum_cholesterol_mg_per_dl','oldpeak_eq_st_depression','sex','age','max_heart_rate_achieved','exercise_induced_angina'\n"
   ]
  },
  {
   "cell_type": "code",
   "execution_count": 70,
   "metadata": {},
   "outputs": [
    {
     "name": "stdout",
     "output_type": "stream",
     "text": [
      "Number of features selected: 2\n",
      "The Accuracy for Testing Phase: 0.8125\n",
      "The Average Precision for Testing Phase: 0.8378378378378378\n",
      "The Average Recall for Testing Phase: 0.775\n",
      "The Average F1 for Testing Phase: 0.8051948051948051\n",
      "Number of features selected: 3\n",
      "The Accuracy for Testing Phase: 0.81875\n",
      "The Average Precision for Testing Phase: 0.8695652173913043\n",
      "The Average Recall for Testing Phase: 0.75\n",
      "The Average F1 for Testing Phase: 0.8053691275167786\n",
      "Number of features selected: 4\n",
      "The Accuracy for Testing Phase: 0.8875\n",
      "The Average Precision for Testing Phase: 0.9078947368421053\n",
      "The Average Recall for Testing Phase: 0.8625\n",
      "The Average F1 for Testing Phase: 0.8846153846153847\n",
      "Number of features selected: 5\n",
      "The Accuracy for Testing Phase: 0.93125\n",
      "The Average Precision for Testing Phase: 0.96\n",
      "The Average Recall for Testing Phase: 0.9\n",
      "The Average F1 for Testing Phase: 0.9290322580645162\n",
      "Number of features selected: 6\n",
      "The Accuracy for Testing Phase: 0.9375\n",
      "The Average Precision for Testing Phase: 0.9487179487179487\n",
      "The Average Recall for Testing Phase: 0.925\n",
      "The Average F1 for Testing Phase: 0.9367088607594937\n",
      "Number of features selected: 7\n",
      "The Accuracy for Testing Phase: 0.95\n",
      "The Average Precision for Testing Phase: 0.95\n",
      "The Average Recall for Testing Phase: 0.95\n",
      "The Average F1 for Testing Phase: 0.9500000000000001\n",
      "Number of features selected: 8\n",
      "The Accuracy for Testing Phase: 0.9625\n",
      "The Average Precision for Testing Phase: 0.9868421052631579\n",
      "The Average Recall for Testing Phase: 0.9375\n",
      "The Average F1 for Testing Phase: 0.9615384615384615\n",
      "Number of features selected: 9\n",
      "The Accuracy for Testing Phase: 0.975\n",
      "The Average Precision for Testing Phase: 0.9871794871794872\n",
      "The Average Recall for Testing Phase: 0.9625\n",
      "The Average F1 for Testing Phase: 0.9746835443037976\n",
      "Number of features selected: 10\n",
      "The Accuracy for Testing Phase: 0.9625\n",
      "The Average Precision for Testing Phase: 0.9868421052631579\n",
      "The Average Recall for Testing Phase: 0.9375\n",
      "The Average F1 for Testing Phase: 0.9615384615384615\n",
      "Number of features selected: 11\n",
      "The Accuracy for Testing Phase: 0.9875\n",
      "The Average Precision for Testing Phase: 0.9875\n",
      "The Average Recall for Testing Phase: 0.9875\n",
      "The Average F1 for Testing Phase: 0.9875\n",
      "Number of features selected: 12\n",
      "The Accuracy for Testing Phase: 0.99375\n",
      "The Average Precision for Testing Phase: 1.0\n",
      "The Average Recall for Testing Phase: 0.9875\n",
      "The Average F1 for Testing Phase: 0.9937106918238994\n",
      "Number of features selected: 13\n",
      "The Accuracy for Testing Phase: 0.975\n",
      "The Average Precision for Testing Phase: 0.9871794871794872\n",
      "The Average Recall for Testing Phase: 0.9625\n",
      "The Average F1 for Testing Phase: 0.9746835443037976\n"
     ]
    }
   ],
   "source": [
    "for i in range(2, 14):\n",
    "    xgb_rfe = RFE(xgb_model, i)\n",
    "    fit = xgb_rfe.fit(X_train_over, y_train_over)\n",
    "    X_train_selected = xgb_rfe.transform(X_train_over)\n",
    "    X_test_selected = xgb_rfe.transform(X_test)\n",
    "    xgb_model.fit(X_train_selected,y_train_over)\n",
    "    preds_xgb = xgb_model.predict(X_train_selected)\n",
    "    print(\"Number of features selected:\", i)\n",
    "    print('The Accuracy for Testing Phase:', accuracy_score(y_train_over, preds_xgb))\n",
    "    print('The Average Precision for Testing Phase:', precision_score(y_train_over, preds_xgb))\n",
    "    print('The Average Recall for Testing Phase:',recall_score(y_train_over, preds_xgb))\n",
    "    print('The Average F1 for Testing Phase:',f1_score(y_train_over, preds_xgb))"
   ]
  },
  {
   "cell_type": "code",
   "execution_count": 71,
   "metadata": {},
   "outputs": [
    {
     "name": "stdout",
     "output_type": "stream",
     "text": [
      "TRAINING METRICS\n",
      "The Accuracy for Training Phase: 0.93125\n",
      "The Precision for Training Phase: 0.9259259259259259\n",
      "The Recall for Training Phase: 0.9375\n",
      "The F1 for Training Phase: 0.9316770186335404\n",
      "TESTING METRICS\n",
      "The Accuracy for Testing Phase: 0.8571428571428571\n",
      "The Average Precision for Testing Phase: 0.8421052631578947\n",
      "The Average Recall for Testing Phase: 0.8888888888888888\n",
      "The Average F1 for Testing Phase: 0.8648648648648649\n"
     ]
    },
    {
     "data": {
      "text/html": [
       "<div>\n",
       "<style scoped>\n",
       "    .dataframe tbody tr th:only-of-type {\n",
       "        vertical-align: middle;\n",
       "    }\n",
       "\n",
       "    .dataframe tbody tr th {\n",
       "        vertical-align: top;\n",
       "    }\n",
       "\n",
       "    .dataframe thead th {\n",
       "        text-align: right;\n",
       "    }\n",
       "</style>\n",
       "<table border=\"1\" class=\"dataframe\">\n",
       "  <thead>\n",
       "    <tr style=\"text-align: right;\">\n",
       "      <th>col_0</th>\n",
       "      <th>0</th>\n",
       "      <th>1</th>\n",
       "    </tr>\n",
       "    <tr>\n",
       "      <th>row_0</th>\n",
       "      <th></th>\n",
       "      <th></th>\n",
       "    </tr>\n",
       "  </thead>\n",
       "  <tbody>\n",
       "    <tr>\n",
       "      <th>0</th>\n",
       "      <td>14</td>\n",
       "      <td>3</td>\n",
       "    </tr>\n",
       "    <tr>\n",
       "      <th>1</th>\n",
       "      <td>2</td>\n",
       "      <td>16</td>\n",
       "    </tr>\n",
       "  </tbody>\n",
       "</table>\n",
       "</div>"
      ],
      "text/plain": [
       "col_0   0   1\n",
       "row_0        \n",
       "0      14   3\n",
       "1       2  16"
      ]
     },
     "execution_count": 71,
     "metadata": {},
     "output_type": "execute_result"
    }
   ],
   "source": [
    "xgb_rfe = RFE(xgb_model, n_features_to_select = 5)\n",
    "fit = xgb_rfe.fit(X_train_over, y_train_over)\n",
    "X_test_selected = xgb_rfe.transform(X_test)\n",
    "X_train_selected = xgb_rfe.transform(X_train_over)\n",
    "X_selected = xgb_rfe.transform(X)\n",
    "\n",
    "xgb_model.fit(X_train_selected1,y_train_over)\n",
    "\n",
    "preds_xgb = xgb_model.predict(X_test_selected1)\n",
    "\n",
    "print('TRAINING METRICS')\n",
    "print('The Accuracy for Training Phase:', accuracy_score(y_train_over, xgb_model.predict(X_train_selected1)))\n",
    "print('The Precision for Training Phase:', precision_score(y_train_over, xgb_model.predict(X_train_selected1)))\n",
    "print('The Recall for Training Phase:',recall_score(y_train_over, xgb_model.predict(X_train_selected1)))\n",
    "print('The F1 for Training Phase:',f1_score(y_train_over, xgb_model.predict(X_train_selected1)))\n",
    "\n",
    "print('TESTING METRICS')\n",
    "print('The Accuracy for Testing Phase:', accuracy_score(y_test, preds_xgb))\n",
    "print('The Average Precision for Testing Phase:', precision_score(y_test, preds_xgb))\n",
    "print('The Average Recall for Testing Phase:',recall_score(y_test, preds_xgb))\n",
    "print('The Average F1 for Testing Phase:',f1_score(y_test, preds_xgb))\n",
    "pd.crosstab(y_test.values.ravel(),preds_xgb)"
   ]
  },
  {
   "cell_type": "code",
   "execution_count": 72,
   "metadata": {},
   "outputs": [
    {
     "name": "stdout",
     "output_type": "stream",
     "text": [
      "TESTING METRICS\n",
      "The Average Accuracy for Testing Phase: 0.8045977011494253\n",
      "The Accuracy STD for Testing Phase: 0.056893649060986554\n",
      "The Average Precision for Testing Phase: 0.7964113181504485\n",
      "The Precision STD for Testing Phase: 0.10100936060697109\n",
      "The Average Recall for Testing Phase: 0.777948717948718\n",
      "The Recall STD for Testing Phase: 0.07101777240501245\n",
      "The Average F1 for Testing Phase: 0.7806786679299575\n",
      "The F1 STD for Testing Phase: 0.054136099778318084\n",
      " \n"
     ]
    }
   ],
   "source": [
    "xgb_rfe = RFE(xgb_model, n_features_to_select = 5)\n",
    "fit = xgb_rfe.fit(X_train_over, y_train_over)\n",
    "X_test_selected4 = xgb_rfe.transform(X_test)\n",
    "X_train_selected4 = xgb_rfe.transform(X_train_over)\n",
    "X_selected4 = xgb_rfe.transform(X)\n",
    "scores9 = cross_validate(xgb_model,X_selected4,y,cv=3,scoring=['accuracy','f1','precision', 'recall'], return_train_score=True)\n",
    "print('TESTING METRICS')\n",
    "print('The Average Accuracy for Testing Phase:',scores9['test_accuracy'].mean())\n",
    "print('The Accuracy STD for Testing Phase:',scores9['test_accuracy'].std())\n",
    "print('The Average Precision for Testing Phase:',scores9['test_precision'].mean())\n",
    "print('The Precision STD for Testing Phase:',scores9['test_precision'].std())\n",
    "print('The Average Recall for Testing Phase:',scores9['test_recall'].mean())\n",
    "print('The Recall STD for Testing Phase:',scores9['test_recall'].std())\n",
    "print('The Average F1 for Testing Phase:',scores9['test_f1'].mean())\n",
    "print('The F1 STD for Testing Phase:',scores9['test_f1'].std())\n",
    "print(\" \")"
   ]
  },
  {
   "cell_type": "markdown",
   "metadata": {},
   "source": [
    "### Stacking of Different Models"
   ]
  },
  {
   "cell_type": "code",
   "execution_count": 73,
   "metadata": {},
   "outputs": [],
   "source": [
    "from mlxtend.classifier import StackingClassifier\n",
    "\n",
    "stack_model = StackingClassifier(\n",
    "    classifiers=[\n",
    "        lr_model,\n",
    "        rf_model\n",
    "    ],\n",
    "    use_probas=True,\n",
    "    meta_classifier=lr_model,average_probas=True\n",
    ")\n",
    "\n",
    "# Check which model is better for generalization, gb_model or rf_model"
   ]
  },
  {
   "cell_type": "markdown",
   "metadata": {},
   "source": [
    "### Purpose: Checking the features for each model created\n",
    "* X_train_selected1 - Logistic Regression \n",
    "* X_train_selected2 - Random Forest\n",
    "* X_train_selected3 - Gradient Boosting\n",
    "* X_train_selected4 - XGB\n"
   ]
  },
  {
   "cell_type": "code",
   "execution_count": 74,
   "metadata": {},
   "outputs": [
    {
     "name": "stdout",
     "output_type": "stream",
     "text": [
      "(160, 10)\n",
      "(160, 8)\n",
      "(160, 7)\n",
      "(160, 5)\n"
     ]
    }
   ],
   "source": [
    "print(X_train_selected1.shape)\n",
    "print(X_train_selected2.shape)\n",
    "print(X_train_selected3.shape)\n",
    "print(X_train_selected4.shape)"
   ]
  },
  {
   "cell_type": "markdown",
   "metadata": {},
   "source": [
    "### The features of Gradient Boosting works the best in training the Stacking Classifier"
   ]
  },
  {
   "cell_type": "code",
   "execution_count": 75,
   "metadata": {},
   "outputs": [
    {
     "name": "stdout",
     "output_type": "stream",
     "text": [
      "TRAINING METRICS\n",
      "The Accuracy for Training Phase: 0.86875\n",
      "The Precision for Training Phase: 0.9041095890410958\n",
      "The Recall for Training Phase: 0.825\n",
      "The F1 for Training Phase: 0.8627450980392157\n",
      "TESTING METRICS\n",
      "The Accuracy for Testing Phase: 0.9428571428571428\n",
      "The Average Precision for Testing Phase: 0.9444444444444444\n",
      "The Average Recall for Testing Phase: 0.9444444444444444\n",
      "The Average F1 for Testing Phase: 0.9444444444444444\n"
     ]
    },
    {
     "data": {
      "text/html": [
       "<div>\n",
       "<style scoped>\n",
       "    .dataframe tbody tr th:only-of-type {\n",
       "        vertical-align: middle;\n",
       "    }\n",
       "\n",
       "    .dataframe tbody tr th {\n",
       "        vertical-align: top;\n",
       "    }\n",
       "\n",
       "    .dataframe thead th {\n",
       "        text-align: right;\n",
       "    }\n",
       "</style>\n",
       "<table border=\"1\" class=\"dataframe\">\n",
       "  <thead>\n",
       "    <tr style=\"text-align: right;\">\n",
       "      <th>col_0</th>\n",
       "      <th>0</th>\n",
       "      <th>1</th>\n",
       "    </tr>\n",
       "    <tr>\n",
       "      <th>row_0</th>\n",
       "      <th></th>\n",
       "      <th></th>\n",
       "    </tr>\n",
       "  </thead>\n",
       "  <tbody>\n",
       "    <tr>\n",
       "      <th>0</th>\n",
       "      <td>16</td>\n",
       "      <td>1</td>\n",
       "    </tr>\n",
       "    <tr>\n",
       "      <th>1</th>\n",
       "      <td>1</td>\n",
       "      <td>17</td>\n",
       "    </tr>\n",
       "  </tbody>\n",
       "</table>\n",
       "</div>"
      ],
      "text/plain": [
       "col_0   0   1\n",
       "row_0        \n",
       "0      16   1\n",
       "1       1  17"
      ]
     },
     "execution_count": 75,
     "metadata": {},
     "output_type": "execute_result"
    }
   ],
   "source": [
    "\n",
    "stack_model.fit(X_train_selected3,y_train_over)\n",
    "\n",
    "preds_stack = stack_model.predict(X_test_selected3)\n",
    "\n",
    "print('TRAINING METRICS')\n",
    "print('The Accuracy for Training Phase:', accuracy_score(y_train_over, stack_model.predict(X_train_selected3)))\n",
    "print('The Precision for Training Phase:', precision_score(y_train_over, stack_model.predict(X_train_selected3)))\n",
    "print('The Recall for Training Phase:',recall_score(y_train_over, stack_model.predict(X_train_selected3)))\n",
    "print('The F1 for Training Phase:',f1_score(y_train_over, stack_model.predict(X_train_selected3)))\n",
    "\n",
    "print('TESTING METRICS')\n",
    "print('The Accuracy for Testing Phase:', accuracy_score(y_test, preds_stack))\n",
    "print('The Average Precision for Testing Phase:', precision_score(y_test, preds_stack))\n",
    "print('The Average Recall for Testing Phase:',recall_score(y_test, preds_stack))\n",
    "print('The Average F1 for Testing Phase:',f1_score(y_test, preds_stack))\n",
    "pd.crosstab(y_test.values.ravel(),preds_stack)"
   ]
  },
  {
   "cell_type": "code",
   "execution_count": 76,
   "metadata": {},
   "outputs": [
    {
     "name": "stdout",
     "output_type": "stream",
     "text": [
      "TESTING METRICS\n",
      "The Average Accuracy for Testing Phase: 0.8333333333333334\n",
      "The Accuracy STD for Testing Phase: 0.029304709848234366\n",
      "The Average Precision for Testing Phase: 0.8637320574162679\n",
      "The Precision STD for Testing Phase: 0.03208506508406021\n",
      "The Average Recall for Testing Phase: 0.7389743589743589\n",
      "The Recall STD for Testing Phase: 0.0717252409592609\n",
      "The Average F1 for Testing Phase: 0.7947118241235888\n",
      "The F1 STD for Testing Phase: 0.04785431403454911\n",
      " \n"
     ]
    }
   ],
   "source": [
    "scores10 = cross_validate(stack_model,X_selected3,y,cv=3,scoring=['accuracy','f1','precision', 'recall'], return_train_score=True)\n",
    "print('TESTING METRICS')\n",
    "print('The Average Accuracy for Testing Phase:',scores10['test_accuracy'].mean())\n",
    "print('The Accuracy STD for Testing Phase:',scores10['test_accuracy'].std())\n",
    "print('The Average Precision for Testing Phase:',scores10['test_precision'].mean())\n",
    "print('The Precision STD for Testing Phase:',scores10['test_precision'].std())\n",
    "print('The Average Recall for Testing Phase:',scores10['test_recall'].mean())\n",
    "print('The Recall STD for Testing Phase:',scores10['test_recall'].std())\n",
    "print('The Average F1 for Testing Phase:',scores10['test_f1'].mean())\n",
    "print('The F1 STD for Testing Phase:',scores10['test_f1'].std())\n",
    "print(\" \")"
   ]
  },
  {
   "cell_type": "code",
   "execution_count": 77,
   "metadata": {},
   "outputs": [
    {
     "name": "stdout",
     "output_type": "stream",
     "text": [
      "TRAINING METRICS\n",
      "The Average Accuracy for Training Phase: 0.882183908045977\n",
      "The Accuracy STD for Training Phase: 0.026648329010045112\n",
      "The Average Precision for Training Phase: 0.938798372840926\n",
      "The Precision STD for Training Phase: 0.017352505339000745\n",
      "The Average Recall for Training Phase: 0.7854449472096531\n",
      "The Recall STD for Training Phase: 0.0704358177507051\n",
      "The Average F1 for Training Phase: 0.8532011680023462\n",
      "The F1 STD for Training Phase: 0.04099972351036745\n",
      " \n"
     ]
    }
   ],
   "source": [
    "print('TRAINING METRICS')\n",
    "print('The Average Accuracy for Training Phase:',scores10['train_accuracy'].mean())\n",
    "print('The Accuracy STD for Training Phase:',scores10['train_accuracy'].std())\n",
    "print('The Average Precision for Training Phase:',scores10['train_precision'].mean())\n",
    "print('The Precision STD for Training Phase:',scores10['train_precision'].std())\n",
    "print('The Average Recall for Training Phase:',scores10['train_recall'].mean())\n",
    "print('The Recall STD for Training Phase:',scores10['train_recall'].std())\n",
    "print('The Average F1 for Training Phase:',scores10['train_f1'].mean())\n",
    "print('The F1 STD for Training Phase:',scores10['train_f1'].std())\n",
    "print(\" \")"
   ]
  },
  {
   "cell_type": "markdown",
   "metadata": {},
   "source": [
    "## Model Evaluation Compilation (WITH OUTLIERS)\n",
    "* Method of comparison is the Generalization of Cross Validation to check whether a model works better with differet folds of the data set"
   ]
  },
  {
   "cell_type": "code",
   "execution_count": 78,
   "metadata": {},
   "outputs": [],
   "source": [
    "average_acc = [scores1['test_accuracy'].mean(), scores2['test_accuracy'].mean(),scores3['test_accuracy'].mean(),scores4['test_accuracy'].mean(),scores5['test_accuracy'].mean()]\n",
    "average_acc_ = [scores1['train_accuracy'].mean(), scores2['train_accuracy'].mean(),scores3['train_accuracy'].mean(),scores4['train_accuracy'].mean(),scores5['train_accuracy'].mean()]\n",
    "\n",
    "std_acc = [scores1['test_accuracy'].std(), scores2['test_accuracy'].std(), scores3['test_accuracy'].std(),scores4['test_accuracy'].std(), scores5['test_accuracy'].std()]\n",
    "std_acc_ = [scores1['train_accuracy'].std(), scores2['train_accuracy'].std(), scores3['train_accuracy'].std(),scores4['train_accuracy'].std(), scores5['train_accuracy'].std()]\n",
    "\n",
    "average_pre = [scores1['test_precision'].mean(),scores2['test_precision'].mean(),scores3['test_precision'].mean(),scores4['test_precision'].mean(),scores5['test_precision'].mean()]\n",
    "average_pre_ = [scores1['train_precision'].mean(),scores2['train_precision'].mean(),scores3['train_precision'].mean(),scores4['train_precision'].mean(),scores5['train_precision'].mean()]\n",
    "\n",
    "               \n",
    "std_pre = [scores1['test_precision'].std(),scores2['test_precision'].std(),scores3['test_precision'].std(),scores4['test_precision'].std(),scores5['test_precision'].std()]\n",
    "std_pre_ = [scores1['train_precision'].std(),scores2['train_precision'].std(),scores3['train_precision'].std(),scores4['train_precision'].std(),scores5['train_precision'].std()]\n",
    "                \n",
    "                \n",
    "average_rec = [scores1['test_recall'].mean(),scores2['test_recall'].mean(),scores3['test_recall'].mean(),scores4['test_recall'].mean(),scores5['test_recall'].mean()]\n",
    "average_rec_ = [scores1['train_recall'].mean(),scores2['train_recall'].mean(),scores3['train_recall'].mean(),scores4['train_recall'].mean(),scores5['train_recall'].mean()]\n",
    "                \n",
    "                \n",
    "std_rec = [scores1['test_recall'].std(),scores2['test_recall'].std(),scores3['test_recall'].std(),scores4['test_recall'].std(),scores5['test_recall'].std()]\n",
    "std_rec_ = [scores1['train_recall'].std(),scores2['train_recall'].std(),scores3['train_recall'].std(),scores4['train_recall'].std(),scores5['train_recall'].std()]\n",
    "                \n",
    "                \n",
    "average_f1 = [scores1['test_f1'].mean(),scores2['test_f1'].mean(),scores3['test_f1'].mean(),scores4['test_f1'].mean(),scores5['test_f1'].mean()]\n",
    "average_f1_ = [scores1['train_f1'].mean(),scores2['train_f1'].mean(),scores3['train_f1'].mean(),scores4['train_f1'].mean(),scores5['train_f1'].mean()]\n",
    "                \n",
    "                \n",
    "std_f1 = [scores1['test_f1'].std(),scores2['test_f1'].std(),scores3['test_f1'].std(),scores4['test_f1'].std(),scores5['test_f1'].std()]\n",
    "std_f1_ = [scores1['train_f1'].std(),scores2['train_f1'].std(),scores3['train_f1'].std(),scores4['train_f1'].std(),scores5['train_f1'].std()]\n",
    "                \n",
    "                \n",
    "data_scores = np.array([average_acc_,average_acc,std_acc_,std_acc,average_pre_,average_pre,std_pre_,std_pre,average_rec_,average_rec,std_rec_,std_rec,average_f1_,average_f1,std_f1_,std_f1])"
   ]
  },
  {
   "cell_type": "code",
   "execution_count": 79,
   "metadata": {},
   "outputs": [],
   "source": [
    "with_outliers = pd.DataFrame(data = data_scores,index = ['Train Average Accuracy','Test Average Accuracy', 'Train STD Accuracy','Test STD Accuracy', 'Train Average Precision','Test Average Precision', 'Train STD Precision','Test STD Precision', 'Train Average Recall','Test Average Recall', 'Train STD Recall', 'Test STD Recall','Train Average F1', 'Test Average F1', 'Train STD F1','Test STD F1'], columns = ['Logistic Regression', 'Random Forest', 'Gradient Boosting', 'XGB', 'Stacking Classifier'])\n"
   ]
  },
  {
   "cell_type": "markdown",
   "metadata": {},
   "source": [
    "## Model Evaluation Compilation (WITHOUT OUTLIERS)"
   ]
  },
  {
   "cell_type": "code",
   "execution_count": 80,
   "metadata": {},
   "outputs": [],
   "source": [
    "average_acc1= [scores6['test_accuracy'].mean(), scores7['test_accuracy'].mean(),scores8['test_accuracy'].mean(),scores9['test_accuracy'].mean(),scores10['test_accuracy'].mean()]\n",
    "average_acc_1 = [scores6['train_accuracy'].mean(), scores7['train_accuracy'].mean(),scores8['train_accuracy'].mean(),scores9['train_accuracy'].mean(),scores10['train_accuracy'].mean()]\n",
    "\n",
    "std_acc1 = [scores6['test_accuracy'].std(), scores7['test_accuracy'].std(), scores8['test_accuracy'].std(),scores9['test_accuracy'].std(), scores10['test_accuracy'].std()]\n",
    "std_acc_1 = [scores6['train_accuracy'].std(), scores7['train_accuracy'].std(), scores8['train_accuracy'].std(),scores9['train_accuracy'].std(), scores10['train_accuracy'].std()]\n",
    "\n",
    "average_pre1 = [scores6['test_precision'].mean(),scores7['test_precision'].mean(),scores8['test_precision'].mean(),scores9['test_precision'].mean(),scores10['test_precision'].mean()]\n",
    "average_pre_1 = [scores6['train_precision'].mean(),scores7['train_precision'].mean(),scores8['train_precision'].mean(),scores9['train_precision'].mean(),scores10['train_precision'].mean()]\n",
    "\n",
    "               \n",
    "std_pre1 = [scores6['test_precision'].std(),scores7['test_precision'].std(),scores8['test_precision'].std(),scores9['test_precision'].std(),scores10['test_precision'].std()]\n",
    "std_pre_1 = [scores6['train_precision'].std(),scores7['train_precision'].std(),scores8['train_precision'].std(),scores9['train_precision'].std(),scores10['train_precision'].std()]\n",
    "                \n",
    "                \n",
    "average_rec1 = [scores6['test_recall'].mean(),scores7['test_recall'].mean(),scores8['test_recall'].mean(),scores9['test_recall'].mean(),scores10['test_recall'].mean()]\n",
    "average_rec_1 = [scores6['train_recall'].mean(),scores7['train_recall'].mean(),scores8['train_recall'].mean(),scores9['train_recall'].mean(),scores10['train_recall'].mean()]\n",
    "                \n",
    "                \n",
    "std_rec1 = [scores6['test_recall'].std(),scores7['test_recall'].std(),scores8['test_recall'].std(),scores9['test_recall'].std(),scores10['test_recall'].std()]\n",
    "std_rec_1 = [scores6['train_recall'].std(),scores7['train_recall'].std(),scores8['train_recall'].std(),scores9['train_recall'].std(),scores10['train_recall'].std()]\n",
    "                \n",
    "                \n",
    "average_f11 = [scores6['test_f1'].mean(),scores7['test_f1'].mean(),scores8['test_f1'].mean(),scores9['test_f1'].mean(),scores10['test_f1'].mean()]\n",
    "average_f1_1 = [scores6['train_f1'].mean(),scores7['train_f1'].mean(),scores8['train_f1'].mean(),scores9['train_f1'].mean(),scores10['train_f1'].mean()]\n",
    "                \n",
    "                \n",
    "std_f11 = [scores6['test_f1'].std(),scores7['test_f1'].std(),scores8['test_f1'].std(),scores9['test_f1'].std(),scores10['test_f1'].std()]\n",
    "std_f1_1 = [scores6['train_f1'].std(),scores7['train_f1'].std(),scores8['train_f1'].std(),scores9['train_f1'].std(),scores10['train_f1'].std()]\n",
    "                \n",
    "                \n",
    "data_scores1 = np.array([average_acc_1,average_acc1,std_acc_1,std_acc1,average_pre_1,average_pre1,std_pre_1,std_pre1,average_rec_1,average_rec1,std_rec_1,std_rec1,average_f1_1,average_f11,std_f1_1,std_f11])"
   ]
  },
  {
   "cell_type": "code",
   "execution_count": 81,
   "metadata": {},
   "outputs": [],
   "source": [
    "without_outliers = pd.DataFrame(data = data_scores1,index = ['Train Average Accuracy','Test Average Accuracy', 'Train STD Accuracy','Test STD Accuracy', 'Train Average Precision','Test Average Precision', 'Train STD Precision','Test STD Precision', 'Train Average Recall','Test Average Recall', 'Train STD Recall', 'Test STD Recall','Train Average F1', 'Test Average F1', 'Train STD F1','Test STD F1'], columns = ['Logistic Regression', 'Random Forest', 'Gradient Boosting', 'XGB', 'Stacking Classifier'])\n"
   ]
  },
  {
   "cell_type": "code",
   "execution_count": 82,
   "metadata": {},
   "outputs": [],
   "source": [
    "with_outliers.to_excel('WITH OUTLIERS.xlsx')\n",
    "without_outliers.to_excel('WITHOUT OUTLIERS.xlsx')"
   ]
  },
  {
   "cell_type": "markdown",
   "metadata": {},
   "source": [
    "## Features selected among the all models (Part1 - With outliers)\n"
   ]
  },
  {
   "cell_type": "markdown",
   "metadata": {},
   "source": [
    "### Features of Logistic Regression\n",
    "* 'slope_of_peak_exercise_st_segment'\n",
    "* 'thal'\n",
    "* 'chest_pain_type'\n",
    "* 'num_major_vessels'\n",
    "* 'fasting_blood_sugar_gt_120_mg_per_dl'\n",
    "* 'resting_ekg_results'\n",
    "* 'oldpeak_eq_st_depression'\n",
    "* 'sex'\n",
    "* 'max_heart_rate_achieved'\n",
    "* 'exercise_induced_angina'\n",
    "\n",
    "### Features of Random Forest \n",
    "* 'thal'\n",
    "* 'resting_blood_pressure'\n",
    "* 'chest_pain_type'\n",
    "* 'num_major_vessels'\n",
    "* 'serum_cholesterol_mg_per_dl'\n",
    "* 'oldpeak_eq_st_depression'\n",
    "* 'age'\n",
    "* 'max_heart_rate_achieved'\n",
    "\n",
    "### Features of Gradient Boosting (Same features for Stacking Classifier)\n",
    "* 'thal'\n",
    "* 'chest_pain_type'\n",
    "* 'num_major_vessels'\n",
    "* 'serum_cholesterol_mg_per_dl'\n",
    "* 'oldpeak_eq_st_depression'\n",
    "* 'age'\n",
    "* 'max_heart_rate_achieved'\n",
    "\n",
    "### Features of XGB\n",
    "* 'thal'\n",
    "* 'chest_pain_type'\n",
    "* 'num_major_vessels'\n",
    "* 'sex'\n",
    "* 'age'"
   ]
  },
  {
   "cell_type": "markdown",
   "metadata": {},
   "source": [
    "## Features selected among the all models (Part2 - Without outliers)\n"
   ]
  },
  {
   "cell_type": "markdown",
   "metadata": {},
   "source": [
    "### Same features were selected in Part 2 for models Logistic Regression, Random Forest, and Gradient Boosting, except XGB which is stated below\n",
    "\n",
    "\n",
    "### Features of XGB\n",
    "* 'thal'\n",
    "* 'chest_pain_type'\n",
    "* 'oldpeak_eq_st_depression'\n",
    "* 'sex'\n",
    "* 'age'"
   ]
  },
  {
   "cell_type": "markdown",
   "metadata": {},
   "source": [
    "#### Part 1 XGB features has a little difference with the features selected which is <font color='red'>'num_major_vessels'</font>, as for Part 2 XGB it is <font color='red'>'oldpeak_eq_st_depression'</font>"
   ]
  },
  {
   "cell_type": "markdown",
   "metadata": {},
   "source": [
    "### Features that are frequently selected by all the models\n",
    "* <font color='blue'>'thal'</font>\n",
    "* <font color='blue'>'chest_pain_type'</font>\n",
    "* <font color='blue'>'num_major_vessels'</font>\n",
    "* <font color='blue'>'oldpeak_eq_st_depression'</font>\n"
   ]
  },
  {
   "cell_type": "markdown",
   "metadata": {},
   "source": [
    "## Step 9: Evaluations of the models for Part 1 and Part 2"
   ]
  },
  {
   "cell_type": "markdown",
   "metadata": {},
   "source": [
    "## Model Evaluations (With Outliers)"
   ]
  },
  {
   "cell_type": "markdown",
   "metadata": {},
   "source": [
    "<img src='table1.PNG' />"
   ]
  },
  {
   "cell_type": "markdown",
   "metadata": {},
   "source": [
    "## Model Evaluations (Without Outliers)"
   ]
  },
  {
   "cell_type": "markdown",
   "metadata": {},
   "source": [
    "<img src='table2.PNG' />"
   ]
  },
  {
   "cell_type": "markdown",
   "metadata": {},
   "source": [
    "## Final Recommendation: Outcome of Part 1 and Part 2 is almost the same. "
   ]
  },
  {
   "cell_type": "markdown",
   "metadata": {},
   "source": [
    "## Stacking Classifier is the best working model across Part 1 and Part 2. The train and test evaluations are not overfitting and also has the less standard deviations with regards to \"Generalization\" "
   ]
  },
  {
   "cell_type": "markdown",
   "metadata": {},
   "source": [
    "### The recommendation are soley based on the evaluation of the models, however the final decision can be taken with the help of Domain Experts."
   ]
  },
  {
   "cell_type": "code",
   "execution_count": null,
   "metadata": {},
   "outputs": [],
   "source": []
  }
 ],
 "metadata": {
  "kernelspec": {
   "display_name": "Python 3",
   "language": "python",
   "name": "python3"
  },
  "language_info": {
   "codemirror_mode": {
    "name": "ipython",
    "version": 3
   },
   "file_extension": ".py",
   "mimetype": "text/x-python",
   "name": "python",
   "nbconvert_exporter": "python",
   "pygments_lexer": "ipython3",
   "version": "3.8.5"
  }
 },
 "nbformat": 4,
 "nbformat_minor": 5
}
